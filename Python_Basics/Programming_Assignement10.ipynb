{
 "cells": [
  {
   "cell_type": "code",
   "execution_count": 25,
   "id": "6bdcb22a-1e63-414a-ae96-a5ec77b1fc18",
   "metadata": {},
   "outputs": [],
   "source": [
    "lst=[1,2,3,4,5,6,7,8,9,[]]"
   ]
  },
  {
   "cell_type": "code",
   "execution_count": 4,
   "id": "f62a3b38-d56f-4f4c-a960-eba4d8c97864",
   "metadata": {},
   "outputs": [
    {
     "name": "stdout",
     "output_type": "stream",
     "text": [
      "45\n",
      "45\n"
     ]
    }
   ],
   "source": [
    "#1. Write a Python program to find sum of elements in list?\n",
    "print(sum(lst))\n",
    "\n",
    "#loop approach\n",
    "s=0\n",
    "for i in lst:\n",
    "    s+=i\n",
    "print(s)"
   ]
  },
  {
   "cell_type": "code",
   "execution_count": 5,
   "id": "ff8dfdfa-db4d-48c9-88f6-47489e7b5294",
   "metadata": {},
   "outputs": [
    {
     "name": "stdout",
     "output_type": "stream",
     "text": [
      "362880\n"
     ]
    }
   ],
   "source": [
    "#2. Write a Python program to Multiply all numbers in the list?\n",
    "mult=1\n",
    "for i in lst:\n",
    "    mult*=i\n",
    "    \n",
    "print(mult)\n",
    "    "
   ]
  },
  {
   "cell_type": "code",
   "execution_count": 9,
   "id": "44d2059e-8f72-4eb0-8764-63777115cd38",
   "metadata": {},
   "outputs": [
    {
     "name": "stdout",
     "output_type": "stream",
     "text": [
      "1\n"
     ]
    }
   ],
   "source": [
    "#3. Write a Python program to find smallest number in a list?\n",
    "print(min(lst))"
   ]
  },
  {
   "cell_type": "code",
   "execution_count": 7,
   "id": "f6ecf3bb-3425-44f8-8c68-bf0326d8d3af",
   "metadata": {},
   "outputs": [
    {
     "name": "stdout",
     "output_type": "stream",
     "text": [
      "9\n"
     ]
    }
   ],
   "source": [
    "#4. Write a Python program to find largest number in a list?\n",
    "print(max(lst))"
   ]
  },
  {
   "cell_type": "code",
   "execution_count": 18,
   "id": "9196047d-7feb-4ca8-837e-30bd03d3b125",
   "metadata": {},
   "outputs": [
    {
     "name": "stdout",
     "output_type": "stream",
     "text": [
      "2\n"
     ]
    }
   ],
   "source": [
    "#5. Write a Python program to find second largest number in a list?\n",
    "s=sorted(set(lst))\n",
    "print(s[1])"
   ]
  },
  {
   "cell_type": "code",
   "execution_count": 19,
   "id": "04e610bc-8f37-4852-aa8c-9dc2b290f8ef",
   "metadata": {},
   "outputs": [
    {
     "name": "stdin",
     "output_type": "stream",
     "text": [
      "nth largest  2\n"
     ]
    },
    {
     "name": "stdout",
     "output_type": "stream",
     "text": [
      "8\n"
     ]
    }
   ],
   "source": [
    "#6. Write a Python program to find N largest elements from a list?\n",
    "n=int(input(\"nth largest \"))\n",
    "s=sorted(set(lst))\n",
    "print(s[n*(-1)])"
   ]
  },
  {
   "cell_type": "code",
   "execution_count": 21,
   "id": "d1a2ba21-d9c3-46ed-a982-e8e1760057a8",
   "metadata": {},
   "outputs": [
    {
     "name": "stdout",
     "output_type": "stream",
     "text": [
      "[2, 4, 6, 8]\n"
     ]
    }
   ],
   "source": [
    "#7. Write a Python program to print even numbers in a list?\n",
    "s=[i for i in lst if i%2==0]\n",
    "print(s)"
   ]
  },
  {
   "cell_type": "code",
   "execution_count": 22,
   "id": "fd169343-4cad-43c7-9d88-88e65cdc26fa",
   "metadata": {},
   "outputs": [
    {
     "name": "stdout",
     "output_type": "stream",
     "text": [
      "[1, 3, 5, 7, 9]\n"
     ]
    }
   ],
   "source": [
    "#8. Write a Python program to print odd numbers in a List?\n",
    "s=[i for i in lst if i%2!=0]\n",
    "print(s)"
   ]
  },
  {
   "cell_type": "code",
   "execution_count": 26,
   "id": "c08366d0-c018-452a-a376-d948911fb50d",
   "metadata": {},
   "outputs": [],
   "source": [
    "#9. Write a Python program to Remove empty List from List?\n",
    "lst.remove([])"
   ]
  },
  {
   "cell_type": "code",
   "execution_count": 27,
   "id": "a5c40f22-9ed1-4c61-b068-1d5bbb49194f",
   "metadata": {},
   "outputs": [
    {
     "name": "stdout",
     "output_type": "stream",
     "text": [
      "[1, 2, 3, 4, 5, 6, 7, 8, 9]\n",
      "[1, 2, 3, 4, 5, 6, 7, 8, 9]\n"
     ]
    }
   ],
   "source": [
    "#10. Write a Python program to Cloning or Copying a list?\n",
    "cp1=lst.copy()\n",
    "cp2=list(lst)\n",
    "print(cp1)\n",
    "print(cp2)"
   ]
  },
  {
   "cell_type": "code",
   "execution_count": 28,
   "id": "88b543dc-fcd6-4164-90b5-1fa486c76d55",
   "metadata": {},
   "outputs": [
    {
     "data": {
      "text/plain": [
       "{1: 1, 2: 1, 3: 1, 4: 1, 5: 1, 6: 1, 7: 1, 8: 1, 9: 1}"
      ]
     },
     "execution_count": 28,
     "metadata": {},
     "output_type": "execute_result"
    }
   ],
   "source": [
    "#11. Write a Python program to Count occurrences of an element in a list?\n",
    "occurrence = {item: lst.count(item) for item in lst}\n",
    "occurrence"
   ]
  },
  {
   "cell_type": "code",
   "execution_count": null,
   "id": "5c922fa7-e39f-4fc2-9e2c-553550214ff0",
   "metadata": {},
   "outputs": [],
   "source": []
  }
 ],
 "metadata": {
  "kernelspec": {
   "display_name": "Python 3 (ipykernel)",
   "language": "python",
   "name": "python3"
  },
  "language_info": {
   "codemirror_mode": {
    "name": "ipython",
    "version": 3
   },
   "file_extension": ".py",
   "mimetype": "text/x-python",
   "name": "python",
   "nbconvert_exporter": "python",
   "pygments_lexer": "ipython3",
   "version": "3.10.6"
  },
  "toc-autonumbering": true,
  "toc-showcode": true
 },
 "nbformat": 4,
 "nbformat_minor": 5
}
