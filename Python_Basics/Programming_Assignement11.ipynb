{
 "cells": [
  {
   "cell_type": "code",
   "execution_count": 9,
   "id": "46ea9f75-22d5-4041-b586-84cb76db41ea",
   "metadata": {},
   "outputs": [
    {
     "name": "stdin",
     "output_type": "stream",
     "text": [
      "Give input 4\n"
     ]
    },
    {
     "data": {
      "text/plain": [
       "['going', 'String', 'functions']"
      ]
     },
     "execution_count": 9,
     "metadata": {},
     "output_type": "execute_result"
    }
   ],
   "source": [
    "#1. Write a Python program to find words which are greater than given length k?\n",
    "s=\"Here I am going to test String with soe functions\"\n",
    "n=int(input(\"Give input\"))\n",
    "lst=[x for x in s.split(\" \") if len(x)>n]\n",
    "lst"
   ]
  },
  {
   "cell_type": "code",
   "execution_count": 13,
   "id": "f8888a08-2560-468a-bd3e-a1fa20477333",
   "metadata": {},
   "outputs": [
    {
     "data": {
      "text/plain": [
       "'Hee I am going to test Sting with soe functions'"
      ]
     },
     "execution_count": 13,
     "metadata": {},
     "output_type": "execute_result"
    }
   ],
   "source": [
    "#2. Write a Python program for removing i-th character from a string?\n",
    "i=2\n",
    "s=s.replace(s[i],'')\n",
    "s"
   ]
  },
  {
   "cell_type": "code",
   "execution_count": 16,
   "id": "820a62ee-9f31-4ff9-91ec-f2ca788c6ec3",
   "metadata": {},
   "outputs": [
    {
     "data": {
      "text/plain": [
       "'going-Sting-functions'"
      ]
     },
     "execution_count": 16,
     "metadata": {},
     "output_type": "execute_result"
    }
   ],
   "source": [
    "#3. Write a Python program to split and join a string?\n",
    "lst=[x for x in s.split(\" \") if len(x)>n]\n",
    "print(\"-\".join(lst)\n",
    "st"
   ]
  },
  {
   "cell_type": "code",
   "execution_count": null,
   "id": "721e97fe-a36f-4e5e-a806-6d742e3fb2ba",
   "metadata": {},
   "outputs": [],
   "source": [
    "#4. Write a Python to check if a given string is binary string or not?"
   ]
  },
  {
   "cell_type": "code",
   "execution_count": null,
   "id": "a6a23e6c-3e02-469e-ace9-9fdfe76553b3",
   "metadata": {},
   "outputs": [],
   "source": [
    "#5. Write a Python program to find uncommon words from two Strings?"
   ]
  },
  {
   "cell_type": "code",
   "execution_count": null,
   "id": "cf3b5682-67a6-4df5-b95c-10413e886781",
   "metadata": {},
   "outputs": [],
   "source": [
    "#6. Write a Python to find all duplicate characters in string?"
   ]
  },
  {
   "cell_type": "code",
   "execution_count": null,
   "id": "00052a2c-f8e8-471a-962b-79445ba0b89b",
   "metadata": {},
   "outputs": [],
   "source": [
    "#7. Write a Python Program to check if a string contains any special character?"
   ]
  }
 ],
 "metadata": {
  "kernelspec": {
   "display_name": "Python 3 (ipykernel)",
   "language": "python",
   "name": "python3"
  },
  "language_info": {
   "codemirror_mode": {
    "name": "ipython",
    "version": 3
   },
   "file_extension": ".py",
   "mimetype": "text/x-python",
   "name": "python",
   "nbconvert_exporter": "python",
   "pygments_lexer": "ipython3",
   "version": "3.10.6"
  }
 },
 "nbformat": 4,
 "nbformat_minor": 5
}
