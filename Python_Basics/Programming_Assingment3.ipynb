{
  "nbformat": 4,
  "nbformat_minor": 0,
  "metadata": {
    "colab": {
      "provenance": [],
      "collapsed_sections": []
    },
    "kernelspec": {
      "name": "python3",
      "display_name": "Python 3"
    },
    "language_info": {
      "name": "python"
    }
  },
  "cells": [
    {
      "cell_type": "markdown",
      "source": [
        "1.\tWrite a Python Program to Check if a Number is Positive, Negative or Zero?"
      ],
      "metadata": {
        "id": "DNnl5OWn_jWu"
      }
    },
    {
      "cell_type": "code",
      "execution_count": 1,
      "metadata": {
        "colab": {
          "base_uri": "https://localhost:8080/"
        },
        "id": "izGciSOq_e8W",
        "outputId": "bb67ba1a-af77-412b-c04b-ef02ba72a5db"
      },
      "outputs": [
        {
          "output_type": "stream",
          "name": "stdout",
          "text": [
            "Give the input integer14\n",
            "Your input is positive\n"
          ]
        }
      ],
      "source": [
        "num=int(input(\"Give the input integer\"))\n",
        "if num == 0:\n",
        "    print(\"Your input is zero\")\n",
        "elif num>0:\n",
        "    print(\"Your input is positive\")\n",
        "else:\n",
        "    print(\"Your input is negative\")\n"
      ]
    },
    {
      "cell_type": "markdown",
      "source": [
        "2.\tWrite a Python Program to Check if a Number is Odd or Even?"
      ],
      "metadata": {
        "id": "xG749Y7u_pE9"
      }
    },
    {
      "cell_type": "code",
      "source": [
        "num=int(input(\"Give the input integer\"))\n",
        "if num%2 ==0:\n",
        "    print(\"Your input is even\")\n",
        "else:\n",
        "    print(\"Your input is obb\")\n"
      ],
      "metadata": {
        "colab": {
          "base_uri": "https://localhost:8080/"
        },
        "id": "9sNPWTcI_p6-",
        "outputId": "a83781a3-d7bc-486f-b4d9-e21f9c662bb2"
      },
      "execution_count": 2,
      "outputs": [
        {
          "output_type": "stream",
          "name": "stdout",
          "text": [
            "Give the input integer3\n",
            "Your input is obb\n"
          ]
        }
      ]
    },
    {
      "cell_type": "markdown",
      "source": [
        "3.\tWrite a Python Program to Check Leap Year?"
      ],
      "metadata": {
        "id": "lg0njYF9_pK-"
      }
    },
    {
      "cell_type": "code",
      "source": [
        "year=int(input(\"Give the input YEAR\"))\n",
        "if year%4==0 or year%400==0:\n",
        "    print(f\"{year} is a leap year\")\n",
        "else:\n",
        "     print(f\"{year} is not a leap year\")\n"
      ],
      "metadata": {
        "colab": {
          "base_uri": "https://localhost:8080/"
        },
        "id": "fyF2PUqR_puG",
        "outputId": "ad0c6ef5-6c71-4213-d22f-a5d0c34e2704"
      },
      "execution_count": 3,
      "outputs": [
        {
          "output_type": "stream",
          "name": "stdout",
          "text": [
            "Give the input YEAR2021\n",
            "2021 is not a leap year\n"
          ]
        }
      ]
    },
    {
      "cell_type": "markdown",
      "source": [
        "4.\tWrite a Python Program to Check Prime Number?"
      ],
      "metadata": {
        "id": "g2FDb8y1_1B3"
      }
    },
    {
      "cell_type": "code",
      "source": [
        "num=int(input(\"Give the input integer\"))\n",
        "flag=0\n",
        "for x in range (2,num):\n",
        "    if num%x==0:\n",
        "        print(\"Your input is not a prime number\")\n",
        "        flag+=1\n",
        "if  flag==0:\n",
        "  print(\"Your input is a prime number\")\n"
      ],
      "metadata": {
        "colab": {
          "base_uri": "https://localhost:8080/"
        },
        "id": "cijF8aMC_3nf",
        "outputId": "ddcbe1a9-e13f-4c63-9a47-6e495884aad6"
      },
      "execution_count": 6,
      "outputs": [
        {
          "output_type": "stream",
          "name": "stdout",
          "text": [
            "Give the input integer3\n",
            "Your input is a prime number\n"
          ]
        }
      ]
    },
    {
      "cell_type": "markdown",
      "source": [
        "5.\tWrite a Python Program to Print all Prime Numbers in an Interval of 1-10000?"
      ],
      "metadata": {
        "id": "d8iM_ctF_4fR"
      }
    },
    {
      "cell_type": "code",
      "source": [
        "num=int(input(\"Give the input integer\"))\n",
        "flag=False\n",
        "for i in range (2,num):\n",
        "    for x in range (2,i):\n",
        "        if i%x==0:\n",
        "            flag=True\n",
        "    if not flag:\n",
        "        print(i) \n",
        "    flag=False\n"
      ],
      "metadata": {
        "colab": {
          "base_uri": "https://localhost:8080/"
        },
        "id": "6wKJFpib_6vP",
        "outputId": "3b9425fa-bac2-4d7b-acf8-9e6c400fcb97"
      },
      "execution_count": 8,
      "outputs": [
        {
          "output_type": "stream",
          "name": "stdout",
          "text": [
            "Give the input integer10\n",
            "2\n",
            "3\n",
            "5\n",
            "7\n"
          ]
        }
      ]
    }
  ]
}