{
  "nbformat": 4,
  "nbformat_minor": 0,
  "metadata": {
    "colab": {
      "provenance": [],
      "collapsed_sections": []
    },
    "kernelspec": {
      "name": "python3",
      "display_name": "Python 3"
    },
    "language_info": {
      "name": "python"
    }
  },
  "cells": [
    {
      "cell_type": "markdown",
      "source": [
        "Q1. In the below elements which of them are values or an expression? eg:- values can be integer or string and expressions will be mathematical operators.\n",
        "* \n",
        "'hello'\n",
        "-87.8\n",
        "- \n",
        "/ \n",
        "+\t\n",
        "6 \n",
        "\n",
        "**ANSWER**- Values are- 'hello', -87.8, 6 \n",
        "Expressions are- * , - , / , +\n",
        "\n",
        "\n",
        "\n",
        "Q2. What is the difference between string and variable?\n",
        "\n",
        "**ANSWER**- Variables are symbols that you can use to store data in a program. You can think of them as an empty box that you fill with some data or value. Strings are data, so we can use them to fill up a variable.\n",
        "\n",
        "\n",
        "Q3. Describe three different data types.\n",
        "\n",
        "**ANSWER**- \tInteger, Strings, Floating point number and Boolean.\n",
        "\n",
        "Q4. What is an expression made up of? What do all expressions do?\n",
        "\n",
        "**ANSWER**- An expression is a combination of values and operators. All expression evaluates to a single value.\n",
        "\n",
        "Q5. This assignment statements, like spam = 10. What is the difference between an expression and a statement?\n",
        "\n",
        "**ANSWER**- An expression evaluates to a single value, statement can not. Above we are assigning value to a variable . \n",
        "\n",
        "\n",
        "Q6. After running the following code, what does the variable bacon contain?\n",
        "bacon = 22\n",
        "bacon + 1\n",
        "\n",
        "**ANSWER**-  bacon contain 22 because ‘bacon + 1’ is just a statement we are not assigning back this value to bacon variable.\n",
        "\n",
        "\n",
        "Q7. What should the values of the following two terms be?\n",
        "'spam' + 'spamspam'\n",
        "'spam' * 3\n",
        "\n",
        "**ANSWER**- Both terms will have ‘spamspamspam’\n",
        "\n",
        "\n",
        "Q8. Why is eggs a valid variable name while 100 is invalid?\n",
        "\n",
        "**ANSWER**-  Variable names cannot begin with a number but it can be end with a number.\n",
        "\n",
        "Q9. What three functions can be used to get the integer, floating-point number, or string version of a value?\n",
        "\n",
        "**ANSWER**- The int(), float(), and str() functions will evaluate to the integer, floating-point number, and string versions of the value passed to them.\n",
        "\n",
        "Q10. Why does this expression cause an error? How can you fix it?\n",
        "'I have eaten ' + 99 + ' burritos.'\n",
        "\n",
        "**ANSWER**- Above expression we are trying to concatenate integer( 99 ) with strings that is not correct in python. To avoid error, we have to convert integer( 99 ) into String ‘99’.\n",
        "\n",
        "\n",
        "\n"
      ],
      "metadata": {
        "id": "GulLAxXSDTgm"
      }
    }
  ]
}