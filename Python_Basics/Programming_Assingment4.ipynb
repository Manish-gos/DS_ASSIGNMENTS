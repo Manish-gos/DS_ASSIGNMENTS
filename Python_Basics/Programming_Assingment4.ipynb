{
  "nbformat": 4,
  "nbformat_minor": 0,
  "metadata": {
    "colab": {
      "provenance": [],
      "collapsed_sections": []
    },
    "kernelspec": {
      "name": "python3",
      "display_name": "Python 3"
    },
    "language_info": {
      "name": "python"
    }
  },
  "cells": [
    {
      "cell_type": "markdown",
      "source": [
        "1.\tWrite a Python Program to Find the Factorial of a Number?"
      ],
      "metadata": {
        "id": "nzYfQg2P-K1_"
      }
    },
    {
      "cell_type": "code",
      "execution_count": 2,
      "metadata": {
        "colab": {
          "base_uri": "https://localhost:8080/"
        },
        "id": "Fx5AHxl4-CZp",
        "outputId": "05eb02d7-0d8e-4853-b9d0-7ccbd7d74746"
      },
      "outputs": [
        {
          "output_type": "stream",
          "name": "stdout",
          "text": [
            "Give the input nuber 5\n",
            "factorial of number 5 is 120\n"
          ]
        }
      ],
      "source": [
        "num=int(input(\"Give the input nuber \"))\n",
        "total=1\n",
        "for i in range(1,num+1):\n",
        "    total*=i\n",
        "print(f\"factorial of number {num} is {total}\")\n"
      ]
    },
    {
      "cell_type": "markdown",
      "source": [
        "2.\tWrite a Python Program to Display the multiplication Table?"
      ],
      "metadata": {
        "id": "-zCugQ0p-SOw"
      }
    },
    {
      "cell_type": "code",
      "source": [
        "num=int(input(\"Give the input nuber \"))\n",
        "\n",
        "for i in range(1,num+1):\n",
        "    print(f\" {num} * {i}  = {num*i}\")\n"
      ],
      "metadata": {
        "colab": {
          "base_uri": "https://localhost:8080/"
        },
        "id": "jhZaCY0d-UQU",
        "outputId": "df89098b-14c4-4d69-9158-2c8e7c293aa8"
      },
      "execution_count": 3,
      "outputs": [
        {
          "output_type": "stream",
          "name": "stdout",
          "text": [
            "Give the input nuber 10\n",
            " 10 * 1  = 10\n",
            " 10 * 2  = 20\n",
            " 10 * 3  = 30\n",
            " 10 * 4  = 40\n",
            " 10 * 5  = 50\n",
            " 10 * 6  = 60\n",
            " 10 * 7  = 70\n",
            " 10 * 8  = 80\n",
            " 10 * 9  = 90\n",
            " 10 * 10  = 100\n"
          ]
        }
      ]
    },
    {
      "cell_type": "markdown",
      "source": [
        "3.\tWrite a Python Program to Print the Fibonacci sequence?"
      ],
      "metadata": {
        "id": "S1uszLZW-VQl"
      }
    },
    {
      "cell_type": "code",
      "source": [
        "num=int(input(\"Give the input nuber \"))\n",
        "a=0\n",
        "b=1\n",
        "print(a,b,end=\" \")\n",
        "for i in range(2,num):\n",
        "    c = a + b\n",
        "    a = b\n",
        "    b = c\n",
        "    print(b,end=\" \")\n"
      ],
      "metadata": {
        "colab": {
          "base_uri": "https://localhost:8080/"
        },
        "id": "BmbJa_M3-X_R",
        "outputId": "f337e01f-f8a4-451a-84c3-acc6c8b8b290"
      },
      "execution_count": 5,
      "outputs": [
        {
          "output_type": "stream",
          "name": "stdout",
          "text": [
            "Give the input nuber 10\n",
            "0 1 1 2 3 5 8 13 21 34 "
          ]
        }
      ]
    },
    {
      "cell_type": "markdown",
      "source": [
        "4.\tWrite a Python Program to Check Armstrong Number?"
      ],
      "metadata": {
        "id": "uZqe9l5x-aYy"
      }
    },
    {
      "cell_type": "code",
      "source": [
        "num=int(input(\"Give the input nuber \"))\n",
        "n=num\n",
        "total=0\n",
        "while num>0:\n",
        "    r=num%10\n",
        "    total=total+r**3\n",
        "    num=num//10\n",
        "print(f\"{n} is a amstrong number : {total==n}\")\n"
      ],
      "metadata": {
        "colab": {
          "base_uri": "https://localhost:8080/"
        },
        "id": "Y8dvaT9t-dCl",
        "outputId": "5fe6c1cc-2878-4fad-844c-5292f3a36829"
      },
      "execution_count": 7,
      "outputs": [
        {
          "output_type": "stream",
          "name": "stdout",
          "text": [
            "Give the input nuber 153\n",
            "153 is a amstrong number : True\n"
          ]
        }
      ]
    },
    {
      "cell_type": "markdown",
      "source": [
        "5.\tWrite a Python Program to Find Armstrong Number in an Interval?"
      ],
      "metadata": {
        "id": "8BHsDVpi-f3m"
      }
    },
    {
      "cell_type": "code",
      "source": [
        "num1=int(input(\"Give the start input number \"))\n",
        "num2=int(input(\"Give the end input number \"))\n",
        "for x in range(num1,num2):\n",
        "    total=0\n",
        "    num=x\n",
        "    while num>0:\n",
        "        r=num%10\n",
        "        total=total+r**3\n",
        "        num=num//10\n",
        "    if total==x:\n",
        "        print(f\"{x} is a amstrong number : {total==x}\")\n"
      ],
      "metadata": {
        "colab": {
          "base_uri": "https://localhost:8080/"
        },
        "id": "ktMA1QVJ-h6O",
        "outputId": "c994e611-6b84-4594-82be-e58d18ccc38c"
      },
      "execution_count": 10,
      "outputs": [
        {
          "output_type": "stream",
          "name": "stdout",
          "text": [
            "Give the start input number 1\n",
            "Give the end input number 200\n",
            "1 is a amstrong number : True\n",
            "153 is a amstrong number : True\n"
          ]
        }
      ]
    },
    {
      "cell_type": "markdown",
      "source": [
        "6.\tWrite a Python Program to Find the Sum of Natural Numbers?"
      ],
      "metadata": {
        "id": "2vLj4yIgCnJq"
      }
    },
    {
      "cell_type": "code",
      "source": [
        "num=int(input(\"Give the input integer \"))\n",
        "n=num\n",
        "n=(n*(n+1))/2;\n",
        "print(f\"Sum of natural {num} natural number is {n}\")\n"
      ],
      "metadata": {
        "colab": {
          "base_uri": "https://localhost:8080/"
        },
        "id": "UAegwlnMCpgW",
        "outputId": "416d54da-68bb-43b1-a4b2-806c60d1c53f"
      },
      "execution_count": 11,
      "outputs": [
        {
          "output_type": "stream",
          "name": "stdout",
          "text": [
            "Give the input integer 15\n",
            "Sum of natural 15 natural number is 120.0\n"
          ]
        }
      ]
    }
  ]
}