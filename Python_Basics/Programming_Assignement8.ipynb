{
 "cells": [
  {
   "cell_type": "code",
   "execution_count": 1,
   "id": "629a3921-c54b-4777-a3c6-a43c4bd55bcf",
   "metadata": {},
   "outputs": [
    {
     "name": "stdout",
     "output_type": "stream",
     "text": [
      "[[10 10 10]\n",
      " [10 10 10]\n",
      " [10 10 10]]\n"
     ]
    }
   ],
   "source": [
    "#1.\tWrite a Python Program to Add Two Matrices?\n",
    "# Program to add two matrices\n",
    "# using numpy\n",
    "\n",
    "import numpy as np\n",
    "\n",
    "X = [[1,2,3],\n",
    "\t[4 ,5,6],\n",
    "\t[7 ,8,9]]\n",
    "\n",
    "Y = [[9,8,7],\n",
    "\t[6,5,4],\n",
    "\t[3,2,1]]\n",
    "\n",
    "result = np.array(X) + np.array(Y)\n",
    "\n",
    "print(result)\n"
   ]
  },
  {
   "cell_type": "code",
   "execution_count": 3,
   "id": "6886beef-d8f0-4128-abd7-b359d69342b1",
   "metadata": {},
   "outputs": [
    {
     "name": "stdout",
     "output_type": "stream",
     "text": [
      "[[ 9 16 21]\n",
      " [24 25 24]\n",
      " [21 16  9]]\n"
     ]
    }
   ],
   "source": [
    "#2.\tWrite a Python Program to Multiply Two Matrices?\n",
    "result = np.multiply(np.array(X) , np.array(Y))\n",
    "\n",
    "print(result)\n"
   ]
  },
  {
   "cell_type": "code",
   "execution_count": 4,
   "id": "2e304328-ec94-458c-8733-1e4275ea9f08",
   "metadata": {},
   "outputs": [
    {
     "name": "stdout",
     "output_type": "stream",
     "text": [
      "[[ 4 12  4]\n",
      " [ 1  3  5]\n",
      " [ 9  1  6]]\n"
     ]
    }
   ],
   "source": [
    "#3.\tWrite a Python Program to Transpose a Matrix?\n",
    "# import the important module in python\n",
    "import numpy as np\n",
    "\t\t\t\n",
    "# make matrix with numpy\n",
    "mt = np.matrix('[4, 1, 9; 12, 3, 1; 4, 5, 6]')\n",
    "\t\t\t\n",
    "# applying matrix.transpose() method\n",
    "tmt = mt.transpose()\n",
    "\t\n",
    "print(tmt)\n"
   ]
  },
  {
   "cell_type": "code",
   "execution_count": 10,
   "id": "ea19bf4b-93d3-4059-acc2-1e4d6b959bb3",
   "metadata": {},
   "outputs": [
    {
     "name": "stdout",
     "output_type": "stream",
     "text": [
      " This demonstrate is lexicographyicaly of program sorting the the to words\n"
     ]
    }
   ],
   "source": [
    "#4.\tWrite a Python Program to Sort Words in Alphabetic Order?\n",
    "s=\"This is the program to demonstrate the sorting of words lexicographyicaly \"\n",
    "lst=[x for x in s.split(\" \")]\n",
    "lst.sort()\n",
    "s=\" \".join(lst)\n",
    "print(s)"
   ]
  },
  {
   "cell_type": "code",
   "execution_count": 13,
   "id": "ca7e117d-bb85-4058-a5e6-d33899965093",
   "metadata": {},
   "outputs": [
    {
     "name": "stdout",
     "output_type": "stream",
     "text": [
      "The original string is : Gfg, is best : for ! Geeks ;\n",
      "The string after punctuation filter : Gfg is best  for  Geeks \n"
     ]
    }
   ],
   "source": [
    "#5.\tWrite a Python Program to Remove Punctuation From a String?\n",
    "test_str = \"Gfg, is best : for ! Geeks ;\"\n",
    "\n",
    "# printing original string\n",
    "print(\"The original string is : \" + test_str)\n",
    "\n",
    "# initializing punctuations string\n",
    "punc = '''!()-[]{};:'\"\\,<>./?@#$%^&*_~'''\n",
    "\n",
    "# Removing punctuations in string\n",
    "# Using loop + punctuation string\n",
    "for ele in test_str:\n",
    "\tif ele in punc:\n",
    "\t\ttest_str = test_str.replace(ele, \"\")\n",
    "\n",
    "# printing result\n",
    "print(\"The string after punctuation filter : \" + test_str)\n"
   ]
  },
  {
   "cell_type": "code",
   "execution_count": null,
   "id": "ad8ed3c1-2dee-4bcb-914b-bc9ac874efbb",
   "metadata": {},
   "outputs": [],
   "source": []
  }
 ],
 "metadata": {
  "kernelspec": {
   "display_name": "Python 3 (ipykernel)",
   "language": "python",
   "name": "python3"
  },
  "language_info": {
   "codemirror_mode": {
    "name": "ipython",
    "version": 3
   },
   "file_extension": ".py",
   "mimetype": "text/x-python",
   "name": "python",
   "nbconvert_exporter": "python",
   "pygments_lexer": "ipython3",
   "version": "3.10.6"
  }
 },
 "nbformat": 4,
 "nbformat_minor": 5
}
