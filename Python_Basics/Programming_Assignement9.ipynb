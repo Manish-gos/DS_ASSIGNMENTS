{
 "cells": [
  {
   "cell_type": "code",
   "execution_count": 24,
   "id": "088511d8-ba43-4641-bd75-99f23fdd9983",
   "metadata": {},
   "outputs": [
    {
     "name": "stdin",
     "output_type": "stream",
     "text": [
      "Enter Number 175\n"
     ]
    },
    {
     "name": "stdout",
     "output_type": "stream",
     "text": [
      "True\n"
     ]
    }
   ],
   "source": [
    "#1. Write a Python program to check if the given number is a Disarium Number?\n",
    "def disarimNum(num:int)->bool:\n",
    "    \"\"\"This function will checkk and reteur true and false if number is not Disarim Number \"\"\"\n",
    "    s=str(num)\n",
    "    k=1\n",
    "    total=0\n",
    "    for i in s:\n",
    "        total+=int(i)**k\n",
    "        k+=1\n",
    "    return num==total \n",
    "print(disarimNum(int(input(\"Enter Number\"))))"
   ]
  },
  {
   "cell_type": "code",
   "execution_count": 27,
   "id": "9eebc35a-20b5-47d5-a1dc-80672cea0e90",
   "metadata": {},
   "outputs": [],
   "source": [
    "#2. Write a Python program to print all disarium numbers between 1 to 100?\n",
    "for i in range(100):\n",
    "    if(disarimNum(str(i))):\n",
    "        print(i)"
   ]
  },
  {
   "cell_type": "code",
   "execution_count": 29,
   "id": "3cdb9a52-7230-463f-bf9a-cd35b1c9df52",
   "metadata": {},
   "outputs": [],
   "source": [
    "#3. Write a Python program to check if the given number is Happy Number?\n",
    "def numSquareSum(num):\n",
    "    s=[int(x)**2 for x in (str(num))]\n",
    "    return sum(s)"
   ]
  },
  {
   "cell_type": "code",
   "execution_count": 31,
   "id": "0f5923f3-2612-460d-88b6-b6611089a1ef",
   "metadata": {},
   "outputs": [
    {
     "name": "stdout",
     "output_type": "stream",
     "text": [
      "True\n"
     ]
    }
   ],
   "source": [
    "def isHappyNumber(n):\n",
    "    st=set()\n",
    "    while (1):\n",
    "        n = numSquareSum(n)\n",
    "        if (n == 1):\n",
    "            return True\n",
    "        if n in st:\n",
    "            return False\n",
    "        st.add(n)\n",
    "print(isHappyNumber(28))"
   ]
  },
  {
   "cell_type": "code",
   "execution_count": 32,
   "id": "905a8c34-5929-4c68-90ff-2bf851e8d88f",
   "metadata": {},
   "outputs": [
    {
     "name": "stdin",
     "output_type": "stream",
     "text": [
      " 129\n"
     ]
    },
    {
     "name": "stdout",
     "output_type": "stream",
     "text": [
      "129 is a Harshad number\n"
     ]
    }
   ],
   "source": [
    "#5. Write a Python program to determine whether the given number is a Harshad Number?\n",
    "num=int(input())\n",
    "if(num/sum([int(x) for x in str(num)])):\n",
    "    print(f'{num} is a Harshad number')"
   ]
  },
  {
   "cell_type": "code",
   "execution_count": 38,
   "id": "5e5b1e48-f30c-4093-898d-ee4fd5c1bf45",
   "metadata": {},
   "outputs": [
    {
     "name": "stdout",
     "output_type": "stream",
     "text": [
      "Pronic numbers between 1 and 100: \n",
      "2\n",
      "6\n",
      "12\n",
      "20\n",
      "30\n",
      "42\n",
      "56\n",
      "72\n",
      "90\n"
     ]
    }
   ],
   "source": [
    "#6. Write a Python program to print all pronic numbers between 1 and 100?\n",
    "def isPronicNumber(num):\n",
    "    flag = False;\n",
    "    for j in range(1, num+1):\n",
    "        if((j*(j+1)) == num):\n",
    "            flag = True\n",
    "            break\n",
    "    return flag\n",
    "print(\"Pronic numbers between 1 and 100: \")\n",
    "for i in range(1, 101):\n",
    "    if(isPronicNumber(i)):\n",
    "        print(i)"
   ]
  },
  {
   "cell_type": "code",
   "execution_count": null,
   "id": "09bd3f15-2f0d-42bf-8f19-f245f1a0154e",
   "metadata": {},
   "outputs": [],
   "source": []
  },
  {
   "cell_type": "code",
   "execution_count": null,
   "id": "43845288-3802-4076-a4fb-82a46d5726bc",
   "metadata": {},
   "outputs": [],
   "source": []
  }
 ],
 "metadata": {
  "kernelspec": {
   "display_name": "Python 3 (ipykernel)",
   "language": "python",
   "name": "python3"
  },
  "language_info": {
   "codemirror_mode": {
    "name": "ipython",
    "version": 3
   },
   "file_extension": ".py",
   "mimetype": "text/x-python",
   "name": "python",
   "nbconvert_exporter": "python",
   "pygments_lexer": "ipython3",
   "version": "3.10.6"
  }
 },
 "nbformat": 4,
 "nbformat_minor": 5
}
