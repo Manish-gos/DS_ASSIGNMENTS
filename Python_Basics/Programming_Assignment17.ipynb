{
 "cells": [
  {
   "cell_type": "code",
   "execution_count": 9,
   "id": "a7c4c0ac-b5ce-4b3e-9486-3b34a5daae95",
   "metadata": {},
   "outputs": [
    {
     "name": "stdout",
     "output_type": "stream",
     "text": [
      "30\n"
     ]
    }
   ],
   "source": [
    "'''\n",
    "Question1. Create a function that takes three arguments a, b, c and returns the sum of the numbers that are evenly divided by c from the range a, b inclusive.\n",
    "Examples\n",
    "evenly_divisible(1, 10, 20) ➞ 0\n",
    "# No number between 1 and 10 can be evenly divided by 20.\n",
    "\n",
    "evenly_divisible(1, 10, 2) ➞ 30\n",
    "# 2 + 4 + 6 + 8 + 10 = 30\n",
    "\n",
    "evenly_divisible(1, 10, 3) ➞ 18\n",
    "# 3 + 6 + 9 = 18\n",
    "'''\n",
    "def evenly_divisible(a,b,c):\n",
    "    su=0\n",
    "    for i in range(a,b+1):\n",
    "        if i%c==0:\n",
    "            su+=i\n",
    "    return su\n",
    "print(evenly_divisible(1,10,2))\n"
   ]
  },
  {
   "cell_type": "code",
   "execution_count": 14,
   "id": "b1a07821-13d8-4ad7-9f2e-9413ec99f171",
   "metadata": {},
   "outputs": [
    {
     "name": "stdin",
     "output_type": "stream",
     "text": [
      " 13 > 44 > 33 > 1\n"
     ]
    },
    {
     "name": "stdout",
     "output_type": "stream",
     "text": [
      "False\n"
     ]
    }
   ],
   "source": [
    "'''\n",
    "Question2.Create a function that returns True if a given inequality expression is correct and False otherwise.\n",
    "Examples\n",
    "correct_signs(\"3 < 7 < 11\") ➞ True\n",
    "\n",
    "correct_signs(\"13 > 44 > 33 > 1\") ➞ False\n",
    "\n",
    "correct_signs(\"1 < 2 < 6 < 9 > 3\") ➞ True\n",
    "'''\n",
    "if eval(input()):\n",
    "    print('True')\n",
    "else:\n",
    "    print('False')"
   ]
  },
  {
   "cell_type": "code",
   "execution_count": 16,
   "id": "c91e2b4a-036d-4437-b16c-4f14e93f47c2",
   "metadata": {},
   "outputs": [
    {
     "name": "stdin",
     "output_type": "stream",
     "text": [
      " the aardvark\n",
      " ?\n"
     ]
    },
    {
     "name": "stdout",
     "output_type": "stream",
     "text": [
      "th? ??rdv?rk\n"
     ]
    }
   ],
   "source": [
    "'''\n",
    "Question3.Create a function that replaces all the vowels in a string with a specified character.\n",
    "Examples\n",
    "replace_vowels(\"the aardvark\", \"#\") ➞ \"th# ##rdv#rk\"\n",
    "\n",
    "replace_vowels(\"minnie mouse\", \"?\") ➞ \"m?nn?? m??s?\"\n",
    "\n",
    "replace_vowels(\"shakespeare\", \"*\") ➞ \"sh*k*sp**r*\"\n",
    "\n",
    "'''\n",
    "def replace_vowels(s,sign):\n",
    "    return s.replace('a',sign).replace('e',sign).replace('i',sign).replace('o',sign).replace('u',sign)\n",
    "print(replace_vowels(input(),input()))"
   ]
  },
  {
   "cell_type": "code",
   "execution_count": 17,
   "id": "1d643f8a-e52f-4c7b-972a-192f743e1a0d",
   "metadata": {},
   "outputs": [
    {
     "name": "stdin",
     "output_type": "stream",
     "text": [
      " 5\n"
     ]
    },
    {
     "name": "stdout",
     "output_type": "stream",
     "text": [
      "120\n"
     ]
    }
   ],
   "source": [
    "'''\n",
    "Question4.Write a function that calculates the factorial of a number recursively.\n",
    "Examples\n",
    "factorial(5) ➞ 120\n",
    "factorial(3) ➞ 6\n",
    "factorial(1) ➞ 1\n",
    "factorial(0) ➞ 1\n",
    "'''\n",
    "def factorial(n):\n",
    "    if n==0:\n",
    "        return 1\n",
    "    return factorial(n-1)*n\n",
    "print(factorial(int(input())))\n",
    "        "
   ]
  },
  {
   "cell_type": "code",
   "execution_count": 20,
   "id": "3034bb5f-1a25-4062-b042-776610193635",
   "metadata": {},
   "outputs": [
    {
     "name": "stdin",
     "output_type": "stream",
     "text": [
      " abcbba\n",
      " abcdba\n"
     ]
    },
    {
     "name": "stdout",
     "output_type": "stream",
     "text": [
      "1\n"
     ]
    }
   ],
   "source": [
    "'''\n",
    "Question 5\n",
    "Hamming distance is the number of characters that differ between two strings.\n",
    "To illustrate:\n",
    "String1: \"abcbba\"\n",
    "String2: \"abcbda\"\n",
    "Hamming Distance: 1 - \"b\" vs. \"d\" is the only difference.\n",
    "Create a function that computes the hamming distance between two strings.\n",
    "Examples\n",
    "hamming_distance(\"abcde\", \"bcdef\") ➞ 5\n",
    "hamming_distance(\"abcde\", \"abcde\") ➞ 0\n",
    "hamming_distance(\"strong\", \"strung\") ➞ 1\n",
    "'''\n",
    "s1=input()\n",
    "s2=input()\n",
    "def hamming_distance(s1,s2):\n",
    "    sum=0\n",
    "    for i in range(len(s1)):\n",
    "        if(s1[i]==s2[i]):\n",
    "            sum+=0\n",
    "        else:\n",
    "            sum+=1\n",
    "    return sum\n",
    "print(hamming_distance(s1,s2))\n",
    "    \n",
    "\n"
   ]
  },
  {
   "cell_type": "code",
   "execution_count": null,
   "id": "211abe1b-512d-4d89-9cd7-69cc074e5a21",
   "metadata": {},
   "outputs": [],
   "source": []
  },
  {
   "cell_type": "code",
   "execution_count": null,
   "id": "6bc4943d-91dc-49a0-a734-8e781484cac3",
   "metadata": {},
   "outputs": [],
   "source": []
  },
  {
   "cell_type": "code",
   "execution_count": null,
   "id": "a39b8c5d-d7c3-4818-a8ce-c1287265f253",
   "metadata": {},
   "outputs": [],
   "source": []
  },
  {
   "cell_type": "code",
   "execution_count": null,
   "id": "2253383e-2fac-4eac-9432-39a2107b1b6e",
   "metadata": {},
   "outputs": [],
   "source": []
  },
  {
   "cell_type": "code",
   "execution_count": null,
   "id": "705233b7-a6dc-4c4b-8baf-49cda2e6e16d",
   "metadata": {},
   "outputs": [],
   "source": []
  },
  {
   "cell_type": "code",
   "execution_count": null,
   "id": "ef5ef9b6-2ba4-4929-b7fc-3fdfd6f83da2",
   "metadata": {},
   "outputs": [],
   "source": []
  },
  {
   "cell_type": "code",
   "execution_count": null,
   "id": "1f940519-f60b-484c-8c77-fb9a1e0e4eb4",
   "metadata": {},
   "outputs": [],
   "source": []
  },
  {
   "cell_type": "code",
   "execution_count": null,
   "id": "2b879a75-dcc1-4d67-a691-7d8789e13868",
   "metadata": {},
   "outputs": [],
   "source": []
  },
  {
   "cell_type": "code",
   "execution_count": null,
   "id": "28fefea5-3800-43ac-b77e-5771c98f6702",
   "metadata": {},
   "outputs": [],
   "source": []
  },
  {
   "cell_type": "code",
   "execution_count": null,
   "id": "de7726c0-332c-43d6-aa28-27659c290fd8",
   "metadata": {},
   "outputs": [],
   "source": []
  },
  {
   "cell_type": "code",
   "execution_count": null,
   "id": "ec281ddb-39d1-47a5-a91a-ba7be8c3ce03",
   "metadata": {},
   "outputs": [],
   "source": []
  },
  {
   "cell_type": "code",
   "execution_count": null,
   "id": "cc2da061-202e-496e-a7f5-9abac0a33708",
   "metadata": {},
   "outputs": [],
   "source": []
  },
  {
   "cell_type": "code",
   "execution_count": null,
   "id": "c1b89a9a-7478-40ed-a8b7-d74358aee3ce",
   "metadata": {},
   "outputs": [],
   "source": []
  }
 ],
 "metadata": {
  "kernelspec": {
   "display_name": "Python 3 (ipykernel)",
   "language": "python",
   "name": "python3"
  },
  "language_info": {
   "codemirror_mode": {
    "name": "ipython",
    "version": 3
   },
   "file_extension": ".py",
   "mimetype": "text/x-python",
   "name": "python",
   "nbconvert_exporter": "python",
   "pygments_lexer": "ipython3",
   "version": "3.10.6"
  }
 },
 "nbformat": 4,
 "nbformat_minor": 5
}
