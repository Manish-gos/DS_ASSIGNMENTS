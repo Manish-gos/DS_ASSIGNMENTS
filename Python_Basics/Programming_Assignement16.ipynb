{
 "cells": [
  {
   "cell_type": "code",
   "execution_count": 3,
   "id": "25db6131-7dd5-4849-941d-8ce2dc41d789",
   "metadata": {},
   "outputs": [
    {
     "name": "stdin",
     "output_type": "stream",
     "text": [
      " incredible\n"
     ]
    },
    {
     "name": "stdout",
     "output_type": "stream",
     "text": [
      "in.. in.. incredible?\n"
     ]
    }
   ],
   "source": [
    "'''\n",
    "Question1. Write a function that stutters a word as if someone is struggling to read it. The first two letters are repeated\n",
    "twice with an ellipsis ... and space after each, and then the word is pronounced with a question mark ?.\n",
    "Examples\n",
    "stutter(\"incredible\") ➞ \"in... in... incredible?\"\n",
    "\n",
    "stutter(\"enthusiastic\") ➞ \"en... en... enthusiastic?\"\n",
    "\n",
    "stutter(\"outstanding\") ➞ \"ou... ou... outstanding?\"\n",
    "\n",
    "Hint :-Assume all input is in lower case and at least two characters long.\n",
    "'''\n",
    "def stutter(s):\n",
    "    return (s[:2]+\".. \")*2+s+\"?\"\n",
    "print( stutter(input()))"
   ]
  },
  {
   "cell_type": "code",
   "execution_count": 7,
   "id": "49d6f9f0-26fc-44ac-9358-c13d58f1736b",
   "metadata": {},
   "outputs": [
    {
     "name": "stdin",
     "output_type": "stream",
     "text": [
      " 2\n"
     ]
    },
    {
     "name": "stdout",
     "output_type": "stream",
     "text": [
      "114.59155902616465\n"
     ]
    }
   ],
   "source": [
    "'''\n",
    "Question 2.Create a function that takes an angle in radians and returns the corresponding angle in degrees rounded to one decimal place.\n",
    "Examples\n",
    "radians_to_degrees(1) ➞ 57.3\n",
    "\n",
    "radians_to_degrees(20) ➞ 1145.9\n",
    "\n",
    "radians_to_degrees(50) ➞ 2864.8\n",
    "'''\n",
    "import math\n",
    "def radians_to_degrees(n):\n",
    "    return (n*180/math.pi)\n",
    "print(radians_to_degrees(int(input())))"
   ]
  },
  {
   "cell_type": "code",
   "execution_count": 14,
   "id": "79b33211-4775-4c38-9253-68bd53a7359c",
   "metadata": {},
   "outputs": [
    {
     "name": "stdin",
     "output_type": "stream",
     "text": [
      " 14\n"
     ]
    },
    {
     "data": {
      "text/plain": [
       "True"
      ]
     },
     "execution_count": 14,
     "metadata": {},
     "output_type": "execute_result"
    }
   ],
   "source": [
    "'''\n",
    "Question 3. In this challenge, establish if a given integer num is a Curzon number. If 1 plus 2 elevated to num is exactly\n",
    "divisible by 1 plus 2 multiplied by num, then num is a Curzon number.\n",
    "Given a non-negative integer num, implement a function that returns True if num is a Curzon number, or False otherwise.\n",
    "Examples\n",
    "is_curzon(5) ➞ True\n",
    "# 2 ** 5 + 1 = 33\n",
    "# 2 * 5 + 1 = 11\n",
    "# 33 is a multiple of 11\n",
    "\n",
    "is_curzon(10) ➞ False\n",
    "# 2 ** 10 + 1 = 1025\n",
    "# 2 * 10 + 1 = 21\n",
    "# 1025 is not a multiple of 21\n",
    "\n",
    "is_curzon(14) ➞ True\n",
    "# 2 ** 14 + 1 = 16385\n",
    "# 2 * 14 + 1 = 29\n",
    "# 16385 is a multiple of 29\n",
    "'''\n",
    "def is_curzon(n):\n",
    "    if((2**n+1)%(2*n+1))==0:\n",
    "        return True\n",
    "    else:\n",
    "        return False\n",
    "is_curzon(int(input()))\n"
   ]
  },
  {
   "cell_type": "code",
   "execution_count": 22,
   "id": "74f002a1-b13a-47a0-8ea4-86c29ce55aaf",
   "metadata": {},
   "outputs": [
    {
     "name": "stdout",
     "output_type": "stream",
     "text": [
      "10.4\n"
     ]
    }
   ],
   "source": [
    "'''\n",
    "Question 4.Given the side length x find the area of a hexagon.\n",
    "Examples\n",
    "area_of_hexagon(1) ➞ 2.6\n",
    "area_of_hexagon(2) ➞ 10.4\n",
    "area_of_hexagon(3) ➞ 23.4\n",
    "'''\n",
    "import math\n",
    "def area_of_hexagon(n):\n",
    "    return(3*math.sqrt(3)*n**2)*0.5\n",
    "\n",
    "print(round(area_of_hexagon(2),1))"
   ]
  },
  {
   "cell_type": "code",
   "execution_count": 26,
   "id": "2bbf170f-0dcf-40d3-965d-b856f3f95e0e",
   "metadata": {},
   "outputs": [
    {
     "name": "stdin",
     "output_type": "stream",
     "text": [
      " 10\n"
     ]
    },
    {
     "name": "stdout",
     "output_type": "stream",
     "text": [
      "1010\n"
     ]
    }
   ],
   "source": [
    "'''\n",
    "Question 5.Create a function that returns a base-2 (binary) representation of a base-10 (decimal) string number. To convert is simple: ((2) means base-2 and (10) means base-10) 010101001(2) = 1 + 8 + 32 + 128.\n",
    "Going from right to left, the value of the most right bit is 1, now from that every bit to the left will be x2 the value, value of an 8 bit binary numbers are (256, 128, 64, 32, 16, 8, 4, 2, 1).\n",
    "Examples\n",
    "binary(1) ➞ \"1\"\n",
    "# 1*1 = 1\n",
    "\n",
    "binary(5) ➞ \"101\"\n",
    "# 1*1 + 1*4 = 5\n",
    "\n",
    "binary(10) ➞ \"1010\"\n",
    "# 1*2 + 1*8 = 10\n",
    "'''\n",
    "def binary(num):\n",
    "    return bin(num)\n",
    "\n",
    "print(binary(int(input()))[2:])"
   ]
  }
 ],
 "metadata": {
  "kernelspec": {
   "display_name": "Python 3 (ipykernel)",
   "language": "python",
   "name": "python3"
  },
  "language_info": {
   "codemirror_mode": {
    "name": "ipython",
    "version": 3
   },
   "file_extension": ".py",
   "mimetype": "text/x-python",
   "name": "python",
   "nbconvert_exporter": "python",
   "pygments_lexer": "ipython3",
   "version": "3.10.6"
  }
 },
 "nbformat": 4,
 "nbformat_minor": 5
}
