{
 "cells": [
  {
   "cell_type": "code",
   "execution_count": 2,
   "id": "5f23b945-6e00-462b-a2fa-8c27d4a360be",
   "metadata": {},
   "outputs": [
    {
     "name": "stdout",
     "output_type": "stream",
     "text": [
      "7\n",
      "14\n",
      "21\n",
      "28\n",
      "35\n",
      "42\n",
      "49\n"
     ]
    }
   ],
   "source": [
    "'''\n",
    "Question 1:\n",
    "Define a class with a generator which can iterate the numbers, which are divisible by 7, between a given range 0 and n.\n",
    "'''\n",
    "class Example:\n",
    "    def __init__(self,n):\n",
    "        self.n=n\n",
    "    \n",
    "    def divisible(self):\n",
    "        for i in range(self.n):\n",
    "            if i%7==0:\n",
    "                yield i\n",
    "                \n",
    "g=Example(50)\n",
    "for i in g.divisible():\n",
    "    print(i,end=\" \")\n",
    "    "
   ]
  },
  {
   "cell_type": "code",
   "execution_count": 4,
   "id": "087bc8c9-0cbe-4d31-8bc6-461b3a7f52ad",
   "metadata": {},
   "outputs": [
    {
     "name": "stdin",
     "output_type": "stream",
     "text": [
      " New to Python or choosing between Python 2 and Python 3? Read Python 2 or Python 3.\n"
     ]
    },
    {
     "name": "stdout",
     "output_type": "stream",
     "text": [
      "2 - 2\n",
      "3. - 1\n",
      "3? - 1\n",
      "New - 1\n",
      "Python - 5\n",
      "Read - 1\n",
      "and - 1\n",
      "between - 1\n",
      "choosing - 1\n",
      "or - 2\n",
      "to - 1\n"
     ]
    }
   ],
   "source": [
    "'''\n",
    "Question 2:\n",
    "Write a program to compute the frequency of the words from the input. The output should output after sorting the key \n",
    "alphanumerically. \n",
    "Suppose the following input is supplied to the program:\n",
    "New to Python or choosing between Python 2 and Python 3? Read Python 2 or Python 3.\n",
    "Then, the output should be:\n",
    "2:2\n",
    "3.:1\n",
    "3?:1\n",
    "New:1\n",
    "Python:5\n",
    "Read:1\n",
    "and:1\n",
    "between:1\n",
    "choosing:1\n",
    "or:2\n",
    "to:1\n",
    "'''\n",
    "import collections\n",
    "s=input()\n",
    "lst=set([x for x in s.split(\" \")])\n",
    "for i in sorted(lst):\n",
    "    print(i,\"-\", s.count(i))"
   ]
  },
  {
   "cell_type": "code",
   "execution_count": 5,
   "id": "26c372af-4d62-4e91-84ff-ca0782947c6b",
   "metadata": {},
   "outputs": [
    {
     "name": "stdout",
     "output_type": "stream",
     "text": [
      "Male gender\n",
      "Female gender\n",
      "Person gender\n"
     ]
    }
   ],
   "source": [
    "'''\n",
    "Question 3:\n",
    "Define a class Person and its two child classes: Male and Female. All classes have a method \"getGender\" which can print \n",
    "\"Male\" for Male class and \"Female\" for Female class.\n",
    "'''\n",
    "class Person:\n",
    "    def getGender(self):\n",
    "        print(\"Person gender\")\n",
    "\n",
    "class Male(Person):\n",
    "    def getGender(self):\n",
    "        print(\"Male gender\")\n",
    "\n",
    "class Female(Person):\n",
    "    def getGender(self):\n",
    "        print(\"Female gender\")\n",
    "        \n",
    "m=Male()\n",
    "m.getGender()\n",
    "f=Female()\n",
    "f.getGender()\n",
    "p=Person()\n",
    "p.getGender()\n",
    "    \n",
    "        "
   ]
  },
  {
   "cell_type": "code",
   "execution_count": 11,
   "id": "8107b459-de8e-4578-a2e7-5a99af90c438",
   "metadata": {},
   "outputs": [
    {
     "name": "stdout",
     "output_type": "stream",
     "text": [
      "I Play Hockey\n",
      "I Play Football\n",
      "I Love Hockey\n",
      "I Love Football\n",
      "You Play Hockey\n",
      "You Play Football\n",
      "You Love Hockey\n",
      "You Love Football\n",
      "[None, None, None, None, None, None, None, None]\n"
     ]
    }
   ],
   "source": [
    "'''Question 4:\n",
    "Please write a program to generate all sentences where subject is in [\"I\", \"You\"] and verb is in [\"Play\", \"Love\"] and the \n",
    "object is in [\"Hockey\",\"Football\"].\n",
    "'''\n",
    "lst1=[\"I\", \"You\"]\n",
    "lst2=[\"Play\", \"Love\"]\n",
    "lst3= [\"Hockey\",\"Football\"]\n",
    "lst=[print(f'{i} {j} {k}')for i in lst1 for j in lst2 for k in lst3]\n",
    "print(lst)\n"
   ]
  },
  {
   "cell_type": "code",
   "execution_count": 16,
   "id": "ae8d4c0a-b09f-404a-bebf-1e138789760e",
   "metadata": {},
   "outputs": [
    {
     "name": "stdout",
     "output_type": "stream",
     "text": [
      "Compressed:  b'x\\x9c\\xcbH\\xcd\\xc9\\xc9W(\\xcf/\\xcaIQ\\xcc\\x00\\xb1\\xb13\\xa1*\\x00\\xa5\\x9a\\x11\\xb5'\n",
      "Decompressed:  b'hello world!helloworld!helloworld!hello world!'\n"
     ]
    }
   ],
   "source": [
    "'''\n",
    "Question 5:\n",
    "Please write a program to compress and decompress the string \"hello world!helloworld!helloworld!hello world!\".\n",
    "'''\n",
    "import zlib\n",
    "text=b\"hello world!helloworld!helloworld!hello world!\"\n",
    "comp=zlib.compress(text)\n",
    "print(\"Compressed: \", comp)\n",
    "decomp=zlib.decompress(comp)\n",
    "print(\"Decompressed: \", decomp)"
   ]
  },
  {
   "cell_type": "code",
   "execution_count": 17,
   "id": "df21d5ce-4a59-4a79-83be-160fd752f68c",
   "metadata": {},
   "outputs": [
    {
     "name": "stdout",
     "output_type": "stream",
     "text": [
      "First occurrence of 4 is present at 2\n"
     ]
    }
   ],
   "source": [
    "'''\n",
    "Question 6:\n",
    "Please write a binary search function which searches an item in a sorted list.\n",
    "The function should return the index of element to be searched in the list.\n",
    "'''\n",
    "from bisect import bisect_left\n",
    " \n",
    "def BinarySearch(a, x):\n",
    "    i = bisect_left(a, x)\n",
    "    if i != len(a) and a[i] == x:\n",
    "        return i\n",
    "    else:\n",
    "        return -1\n",
    " \n",
    "a  = [1, 2, 4, 4, 8]\n",
    "x = int(4)\n",
    "res = BinarySearch(a, x)\n",
    "if res == -1:\n",
    "    print(x, \"is absent\")\n",
    "else:\n",
    "    print(\"First occurrence of\", x, \"is present at\", res)"
   ]
  },
  {
   "cell_type": "code",
   "execution_count": null,
   "id": "169283e6-ead1-4873-87a9-0330e88988ed",
   "metadata": {},
   "outputs": [],
   "source": []
  },
  {
   "cell_type": "code",
   "execution_count": null,
   "id": "14150d3b-bede-472a-a3ee-f12aaabd39eb",
   "metadata": {},
   "outputs": [],
   "source": []
  },
  {
   "cell_type": "code",
   "execution_count": null,
   "id": "0862b375-5310-4f84-99da-5ff0610f9d32",
   "metadata": {},
   "outputs": [],
   "source": []
  },
  {
   "cell_type": "code",
   "execution_count": null,
   "id": "cd2dec2e-2a35-44ca-a63f-2c2c918b4410",
   "metadata": {},
   "outputs": [],
   "source": []
  },
  {
   "cell_type": "code",
   "execution_count": null,
   "id": "bd87f463-9f64-4126-a2a4-e93c6ea6ebfb",
   "metadata": {},
   "outputs": [],
   "source": []
  },
  {
   "cell_type": "code",
   "execution_count": null,
   "id": "d96d9c84-f921-49c9-aae7-52392327c94a",
   "metadata": {},
   "outputs": [],
   "source": []
  }
 ],
 "metadata": {
  "kernelspec": {
   "display_name": "Python 3 (ipykernel)",
   "language": "python",
   "name": "python3"
  },
  "language_info": {
   "codemirror_mode": {
    "name": "ipython",
    "version": 3
   },
   "file_extension": ".py",
   "mimetype": "text/x-python",
   "name": "python",
   "nbconvert_exporter": "python",
   "pygments_lexer": "ipython3",
   "version": "3.10.6"
  }
 },
 "nbformat": 4,
 "nbformat_minor": 5
}
