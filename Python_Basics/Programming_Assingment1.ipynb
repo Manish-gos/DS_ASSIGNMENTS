{
  "nbformat": 4,
  "nbformat_minor": 0,
  "metadata": {
    "colab": {
      "provenance": [],
      "collapsed_sections": []
    },
    "kernelspec": {
      "name": "python3",
      "display_name": "Python 3"
    },
    "language_info": {
      "name": "python"
    }
  },
  "cells": [
    {
      "cell_type": "markdown",
      "source": [
        "1.\tWrite a Python program to print \"Hello Python\"?"
      ],
      "metadata": {
        "id": "zngi01aN8QcL"
      }
    },
    {
      "cell_type": "code",
      "source": [
        "print(\"Hello Python\")"
      ],
      "metadata": {
        "colab": {
          "base_uri": "https://localhost:8080/"
        },
        "id": "JOEwZio68UlZ",
        "outputId": "204814b0-4998-45ee-b7f3-7d9d7202053e"
      },
      "execution_count": null,
      "outputs": [
        {
          "output_type": "stream",
          "name": "stdout",
          "text": [
            "Hello Python\n"
          ]
        }
      ]
    },
    {
      "cell_type": "markdown",
      "source": [
        "2.\tWrite a Python program to do arithmetical operations addition and division.?"
      ],
      "metadata": {
        "id": "iwauYYg98Qzw"
      }
    },
    {
      "cell_type": "code",
      "source": [
        "a=10\n",
        "b=2\n",
        "print(f\"Addition is {a+b}\")\n",
        "print(f\"division is {a/b}\")\n"
      ],
      "metadata": {
        "colab": {
          "base_uri": "https://localhost:8080/"
        },
        "id": "TqOLhw5u8U0K",
        "outputId": "5a33fd29-38e2-4e45-f10b-660569084f5b"
      },
      "execution_count": null,
      "outputs": [
        {
          "output_type": "stream",
          "name": "stdout",
          "text": [
            "Addition is 12\n",
            "division is 5.0\n"
          ]
        }
      ]
    },
    {
      "cell_type": "markdown",
      "source": [
        "3.\tWrite a Python program to find the area of a triangle?"
      ],
      "metadata": {
        "id": "gqzH27If8RBg"
      }
    },
    {
      "cell_type": "code",
      "source": [
        "# Area of triangle =h*b/2\n",
        "h=10\n",
        "b=2\n",
        "area=h*b/2\n",
        "print(f\"Area of triangle is{area}\")\n"
      ],
      "metadata": {
        "id": "6jBY2MOJ8VCB"
      },
      "execution_count": null,
      "outputs": []
    },
    {
      "cell_type": "markdown",
      "source": [
        "4.\tWrite a Python program to swap two variables?"
      ],
      "metadata": {
        "id": "u9nUTJDt8RNS"
      }
    },
    {
      "cell_type": "code",
      "execution_count": 3,
      "metadata": {
        "id": "GsgpM8k-8MmR",
        "colab": {
          "base_uri": "https://localhost:8080/"
        },
        "outputId": "66291f64-b161-4a0e-d99f-e48f4a4b5d4d"
      },
      "outputs": [
        {
          "output_type": "stream",
          "name": "stdout",
          "text": [
            "Swaped values are a : 2 and b : 10\n",
            "Swaped values are a : 2 and b : 10\n"
          ]
        }
      ],
      "source": [
        "#First approach \n",
        "# with thierd variable\n",
        "a=10\n",
        "b=2\n",
        "c=a\n",
        "a=b\n",
        "b=c\n",
        "print(f\"Swaped values are a : {a} and b : {b}\")\n",
        "\n",
        "#Second approach\n",
        "# without thierd variable\n",
        "a=10\n",
        "b=2\n",
        "a=a+b\n",
        "b=a-b\n",
        "a=a-b\n",
        "print(f\"Swaped values are a : {a} and b : {b}\")\n"
      ]
    },
    {
      "cell_type": "markdown",
      "source": [
        "5.\tWrite a Python program to generate a random number?"
      ],
      "metadata": {
        "id": "zgHqyKhH8RbQ"
      }
    },
    {
      "cell_type": "code",
      "source": [
        "import random\n",
        "print(random.randint(0,9))\n"
      ],
      "metadata": {
        "id": "XKRUcru_8VU5",
        "colab": {
          "base_uri": "https://localhost:8080/"
        },
        "outputId": "fd0f4edb-aefe-49ad-e4c7-9cc9a9460ece"
      },
      "execution_count": 4,
      "outputs": [
        {
          "output_type": "stream",
          "name": "stdout",
          "text": [
            "5\n"
          ]
        }
      ]
    }
  ]
}