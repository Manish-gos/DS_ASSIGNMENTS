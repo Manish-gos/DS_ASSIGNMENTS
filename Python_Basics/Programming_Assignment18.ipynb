{
 "cells": [
  {
   "cell_type": "code",
   "execution_count": 4,
   "id": "58d15b60-f872-4b07-83a2-a6231f816c71",
   "metadata": {},
   "outputs": [
    {
     "name": "stdin",
     "output_type": "stream",
     "text": [
      " 1 2 3 4a\n"
     ]
    },
    {
     "name": "stdout",
     "output_type": "stream",
     "text": [
      "['1', '2', '3']\n"
     ]
    }
   ],
   "source": [
    "'''\n",
    "Question 1\n",
    "Create a function that takes a list of non-negative integers and strings and return a new list without the strings.\n",
    "Examples\n",
    "filter_list([1, 2, \"a\", \"b\"]) ➞ [1, 2]\n",
    "filter_list([1, \"a\", \"b\", 0, 15]) ➞ [1, 0, 15]\n",
    "filter_list([1, 2, \"aasf\", \"1\", \"123\", 123]) ➞ [1, 2, 123]\n",
    "'''\n",
    "def filter_list(lst):\n",
    "    ls=[i for i in lst if i.isnumeric() ]\n",
    "    return ls\n",
    "lst=[x for x in input().split(\" \")]\n",
    "print(filter_list(lst))"
   ]
  },
  {
   "cell_type": "code",
   "execution_count": 8,
   "id": "fe08f803-1880-4908-bd3c-52a0c000a4d0",
   "metadata": {},
   "outputs": [
    {
     "name": "stdin",
     "output_type": "stream",
     "text": [
      " Hello World\n"
     ]
    },
    {
     "name": "stdout",
     "output_type": "stream",
     "text": [
      "DLROwOLLEh\n"
     ]
    }
   ],
   "source": [
    "'''\n",
    "Question 2\n",
    "The \"Reverser\" takes a string as input and returns that string in reverse order, with the opposite case.\n",
    "Examples\n",
    "reverse(\"Hello World\") ➞ \"DLROwOLLEh\"\n",
    "reverse(\"ReVeRsE\") ➞ \"eSrEvEr\"\n",
    "reverse(\"Radar\") ➞ \"RADAr\"\n",
    "'''\n",
    "def reverse(s):\n",
    "    return s.replace(\" \",\"\")[::-1].swapcase()\n",
    "\n",
    "print(reverse(input()))\n"
   ]
  },
  {
   "cell_type": "code",
   "execution_count": 9,
   "id": "2c4660b4-16f0-44c1-a275-ae6d5e4ac04b",
   "metadata": {},
   "outputs": [
    {
     "name": "stdout",
     "output_type": "stream",
     "text": [
      "1\n",
      "[2, 3, 4, 5]\n",
      "6\n"
     ]
    }
   ],
   "source": [
    "'''\n",
    "\n",
    "Question 3\n",
    "You can assign variables from lists like this:\n",
    "lst = [1, 2, 3, 4, 5, 6]\n",
    "first = lst[0]\n",
    "middle = lst[1:-1]\n",
    "last = lst[-1]\n",
    "\n",
    "print(first) ➞ outputs 1\n",
    "print(middle) ➞ outputs [2, 3, 4, 5]\n",
    "print(last) ➞ outputs 6\n",
    "With Python 3, you can assign variables from lists in a much more succinct way. Create variables first, middle and last from the given list using destructuring assignment (check the Resources tab for some examples), where:\n",
    "first  ➞ 1\n",
    "middle➞ [2, 3, 4, 5]\n",
    "last➞ 6\n",
    "'''\n",
    "lst = [1, 2, 3, 4, 5, 6]\n",
    "first = lst[0]\n",
    "middle = lst[1:-1]\n",
    "last = lst[-1]\n",
    "print(first) \n",
    "print(middle) \n",
    "print(last)"
   ]
  },
  {
   "cell_type": "code",
   "execution_count": 10,
   "id": "b798bcda-023f-4ea5-8492-1fb4a3663e13",
   "metadata": {},
   "outputs": [
    {
     "name": "stdin",
     "output_type": "stream",
     "text": [
      " 5\n"
     ]
    },
    {
     "name": "stdout",
     "output_type": "stream",
     "text": [
      "120\n"
     ]
    }
   ],
   "source": [
    "'''\n",
    "Question 4\n",
    "Write a function that calculates the factorial of a number recursively.\n",
    "Examples\n",
    "factorial(5) ➞ 120\n",
    "factorial(3) ➞ 6\n",
    "factorial(1) ➞ 1\n",
    "'''\n",
    "def factorial(n):\n",
    "    if n==0:\n",
    "        return 1\n",
    "    return factorial(n-1)*n\n",
    "print(factorial(int(input())))\n",
    "        "
   ]
  },
  {
   "cell_type": "code",
   "execution_count": 14,
   "id": "89ef3454-b924-4690-a9d3-2549d5ee122d",
   "metadata": {},
   "outputs": [
    {
     "name": "stdout",
     "output_type": "stream",
     "text": [
      "[3, 2, 4, 4, 1, 1]\n"
     ]
    }
   ],
   "source": [
    "'''\n",
    "Question 5\n",
    "Write a function that moves all elements of one type to the end of the list.\n",
    "Examples\n",
    "move_to_end([1, 3, 2, 4, 4, 1], 1) ➞ [3, 2, 4, 4, 1, 1]\n",
    "# Move all the 1s to the end of the array.\n",
    "\n",
    "move_to_end([7, 8, 9, 1, 2, 3, 4], 9) ➞ [7, 8, 1, 2, 3, 4, 9]\n",
    "\n",
    "move_to_end([\"a\", \"a\", \"a\", \"b\"], \"a\") ➞ [\"b\", \"a\", \"a\", \"a\"]\n",
    "\n",
    "'''\n",
    "def move_to_end(lst,elem):\n",
    "    lst = [x for x in lst if x != elem] + [elem for i in range(lst.count(elem))]\n",
    "    return lst\n",
    "lst=[1, 3, 2, 4, 4, 1]\n",
    "print(move_to_end(lst,1))"
   ]
  },
  {
   "cell_type": "code",
   "execution_count": 13,
   "id": "543b81dd-eb95-4bda-980c-5e1cf3bb6603",
   "metadata": {},
   "outputs": [
    {
     "data": {
      "text/plain": [
       "2"
      ]
     },
     "execution_count": 13,
     "metadata": {},
     "output_type": "execute_result"
    }
   ],
   "source": []
  }
 ],
 "metadata": {
  "kernelspec": {
   "display_name": "Python 3 (ipykernel)",
   "language": "python",
   "name": "python3"
  },
  "language_info": {
   "codemirror_mode": {
    "name": "ipython",
    "version": 3
   },
   "file_extension": ".py",
   "mimetype": "text/x-python",
   "name": "python",
   "nbconvert_exporter": "python",
   "pygments_lexer": "ipython3",
   "version": "3.10.6"
  }
 },
 "nbformat": 4,
 "nbformat_minor": 5
}
