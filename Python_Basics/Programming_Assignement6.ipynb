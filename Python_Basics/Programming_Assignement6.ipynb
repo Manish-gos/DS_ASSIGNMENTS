{
 "cells": [
  {
   "cell_type": "code",
   "execution_count": 8,
   "id": "e7add270-b4ff-4c6d-b1a9-6be324a0c9e7",
   "metadata": {},
   "outputs": [
    {
     "name": "stdout",
     "output_type": "stream",
     "text": [
      "0 1 1 2 3 5 8 13 21 "
     ]
    }
   ],
   "source": [
    "#1. Write a Python Program to Display Fibonacci Sequence Using Recursion?\n",
    "def fab(a:int):\n",
    "    if a==0 or a==1:\n",
    "        return a\n",
    "    return fab(a-2)+fab(a-1)\n",
    "\n",
    "for i in range(9):\n",
    "    print(fab(i), end=\" \")"
   ]
  },
  {
   "cell_type": "code",
   "execution_count": null,
   "id": "5e57951a-7c24-4368-a6a1-f07ae1257410",
   "metadata": {},
   "outputs": [],
   "source": []
  },
  {
   "cell_type": "code",
   "execution_count": 9,
   "id": "c24f172d-b59d-4a07-8827-9c006cdcfced",
   "metadata": {},
   "outputs": [
    {
     "name": "stdout",
     "output_type": "stream",
     "text": [
      "120\n"
     ]
    }
   ],
   "source": [
    "#2. Write a Python Program to Find Factorial of Number Using Recursion?\n",
    "def factorial(a:int):\n",
    "    if a==0 or a==1:\n",
    "        return 1\n",
    "    return a*factorial(a-1)\n",
    "\n",
    "print(factorial(5))"
   ]
  },
  {
   "cell_type": "code",
   "execution_count": 18,
   "id": "5fbd8437-14d0-4af3-9070-66ab2c9fd128",
   "metadata": {},
   "outputs": [
    {
     "name": "stdin",
     "output_type": "stream",
     "text": [
      "Enter weight in KG 80\n",
      "Enter height in meter 1.5\n"
     ]
    },
    {
     "name": "stdout",
     "output_type": "stream",
     "text": [
      "Your BMI is 35.55555555555556\n"
     ]
    }
   ],
   "source": [
    "#3. Write a Python Program to calculate your Body Mass Index?\n",
    "w=int(input(\"Enter weight in KG\"))\n",
    "h=float(input(\"Enter height in meter\"))\n",
    "print(f'Your BMI is {w/(h**2)}')"
   ]
  },
  {
   "cell_type": "code",
   "execution_count": 15,
   "id": "fcd19bb9-5c2f-47f5-ba29-2423755c8150",
   "metadata": {},
   "outputs": [
    {
     "name": "stdin",
     "output_type": "stream",
     "text": [
      "Enter number 10\n"
     ]
    },
    {
     "data": {
      "text/plain": [
       "1.0"
      ]
     },
     "execution_count": 15,
     "metadata": {},
     "output_type": "execute_result"
    }
   ],
   "source": [
    "#4. Write a Python Program to calculate the natural logarithm of any number?\n",
    "import math\n",
    "math.log(int(input(\"Enter number\")),10)"
   ]
  },
  {
   "cell_type": "code",
   "execution_count": 19,
   "id": "e4a28a3d-2ad7-4782-b5ab-298b579ca9f2",
   "metadata": {},
   "outputs": [
    {
     "name": "stdin",
     "output_type": "stream",
     "text": [
      "Enter number 4\n"
     ]
    },
    {
     "name": "stdout",
     "output_type": "stream",
     "text": [
      "Cube sum is 100.0\n"
     ]
    }
   ],
   "source": [
    "#5. Write a Python Program for cube sum of first n natural numbers?\n",
    "n=int(input(\"Enter number\"))\n",
    "s=n*(n+1)/2\n",
    "print(f'Cube sum is {s**2}')"
   ]
  },
  {
   "cell_type": "code",
   "execution_count": null,
   "id": "2438eb3c-0031-491f-86e8-c8875c86507a",
   "metadata": {},
   "outputs": [],
   "source": []
  }
 ],
 "metadata": {
  "kernelspec": {
   "display_name": "Python 3 (ipykernel)",
   "language": "python",
   "name": "python3"
  },
  "language_info": {
   "codemirror_mode": {
    "name": "ipython",
    "version": 3
   },
   "file_extension": ".py",
   "mimetype": "text/x-python",
   "name": "python",
   "nbconvert_exporter": "python",
   "pygments_lexer": "ipython3",
   "version": "3.10.6"
  }
 },
 "nbformat": 4,
 "nbformat_minor": 5
}
