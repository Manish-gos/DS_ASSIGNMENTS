{
  "nbformat": 4,
  "nbformat_minor": 0,
  "metadata": {
    "colab": {
      "provenance": [],
      "collapsed_sections": []
    },
    "kernelspec": {
      "name": "python3",
      "display_name": "Python 3"
    },
    "language_info": {
      "name": "python"
    }
  },
  "cells": [
    {
      "cell_type": "markdown",
      "source": [
        "1.\tWrite a Python program to convert kilometers to miles?"
      ],
      "metadata": {
        "id": "le_KjF2rBfug"
      }
    },
    {
      "cell_type": "code",
      "execution_count": 1,
      "metadata": {
        "colab": {
          "base_uri": "https://localhost:8080/"
        },
        "id": "ITAqUA-nBVAO",
        "outputId": "1a582a50-7f5b-4d97-c295-25730cd64d0b"
      },
      "outputs": [
        {
          "output_type": "stream",
          "name": "stdout",
          "text": [
            "Provide the KM value15\n",
            "The mile value of 15 KM is 9.320565 miles\n"
          ]
        }
      ],
      "source": [
        "mile=0.621371\n",
        "a=int(input(\"Provide the KM value \"))\n",
        "c=a*mile\n",
        "print(f\"The mile value of {a} KM is {c} miles\")\n"
      ]
    },
    {
      "cell_type": "markdown",
      "source": [
        "2.\tWrite a Python program to convert Celsius to Fahrenheit?"
      ],
      "metadata": {
        "id": "K1npXFmsBmkC"
      }
    },
    {
      "cell_type": "code",
      "source": [
        "# f=c*1.8+32\n",
        "c=int(input(\"Provide the C value \"))\n",
        "f=c*1.8+32\n",
        "print(f\"The Fahrenheit value of {c} Celsius  is {f} Fahrenheit\")\n"
      ],
      "metadata": {
        "colab": {
          "base_uri": "https://localhost:8080/"
        },
        "id": "gawsKt5rBoui",
        "outputId": "b432fe3d-2617-4f00-8a71-38c4bbb4108a"
      },
      "execution_count": 2,
      "outputs": [
        {
          "output_type": "stream",
          "name": "stdout",
          "text": [
            "Provide the C value 10\n",
            "The Fahrenheit value of 10 Celsius  is 50.0 Fahrenheit\n"
          ]
        }
      ]
    },
    {
      "cell_type": "markdown",
      "source": [
        "3.\tWrite a Python program to display calendar?"
      ],
      "metadata": {
        "id": "JZDb40ZqBq4R"
      }
    },
    {
      "cell_type": "code",
      "source": [
        "import calendar\n",
        "year=int(input(\"Enter year \"))\n",
        "month=int(input(\"Enter month \"))\n",
        "if year>0 and month>0 and month <13:\n",
        "    print(calendar.month(year,month))\n",
        "else:\n",
        "    print(\"provide valid input\")\n"
      ],
      "metadata": {
        "colab": {
          "base_uri": "https://localhost:8080/"
        },
        "id": "OR1D-9tfBs9i",
        "outputId": "b45495e6-aa3b-4521-b3d3-d77fb4764376"
      },
      "execution_count": 3,
      "outputs": [
        {
          "output_type": "stream",
          "name": "stdout",
          "text": [
            "Enter year 2022\n",
            "Enter month 09\n",
            "   September 2022\n",
            "Mo Tu We Th Fr Sa Su\n",
            "          1  2  3  4\n",
            " 5  6  7  8  9 10 11\n",
            "12 13 14 15 16 17 18\n",
            "19 20 21 22 23 24 25\n",
            "26 27 28 29 30\n",
            "\n"
          ]
        }
      ]
    },
    {
      "cell_type": "markdown",
      "source": [
        "4.\tWrite a Python program to solve quadratic equation?"
      ],
      "metadata": {
        "id": "FBkIxI00Bvhi"
      }
    },
    {
      "cell_type": "code",
      "source": [
        "import math # for complex root change math package with cmath\n",
        "a = 1\n",
        "b = 10\n",
        "c = -24\n",
        "# calculating  the discriminant\n",
        "dis = (b**2) - (4 * a*c)\n",
        "# find two results\n",
        "ans1 = (-b-math.sqrt(dis))/(2 * a)\n",
        "ans2 = (-b + math.sqrt(dis))/(2 * a)\n",
        "print('The roots are')\n",
        "print(ans1)\n",
        "print(ans2)\n"
      ],
      "metadata": {
        "colab": {
          "base_uri": "https://localhost:8080/"
        },
        "id": "FpG8gYDiByvz",
        "outputId": "31db639b-1a17-49c7-e99b-d7d236580e87"
      },
      "execution_count": 4,
      "outputs": [
        {
          "output_type": "stream",
          "name": "stdout",
          "text": [
            "The roots are\n",
            "-12.0\n",
            "2.0\n"
          ]
        }
      ]
    },
    {
      "cell_type": "markdown",
      "source": [
        "5.\tWrite a Python program to swap two variables without temp variable?"
      ],
      "metadata": {
        "id": "P6yiWS66B3xT"
      }
    },
    {
      "cell_type": "code",
      "source": [
        "# without thierd variable\n",
        "a=10\n",
        "b=2\n",
        "a=a+b\n",
        "b=a-b\n",
        "a=a-b\n",
        "print(f\"Swaped values are a : {a} and b : {b}\")\n"
      ],
      "metadata": {
        "colab": {
          "base_uri": "https://localhost:8080/"
        },
        "id": "25b4hT1yB77k",
        "outputId": "d88988b1-fb17-4fd5-d32f-820d5d6f6e30"
      },
      "execution_count": 5,
      "outputs": [
        {
          "output_type": "stream",
          "name": "stdout",
          "text": [
            "Swaped values are a : 2 and b : 10\n"
          ]
        }
      ]
    }
  ]
}