{
 "cells": [
  {
   "cell_type": "code",
   "execution_count": null,
   "id": "71014ea7-06c6-4e88-adf8-6758f22406e0",
   "metadata": {},
   "outputs": [],
   "source": [
    "#Exercise 1: Calculate the multiplication and sum of two numbers"
   ]
  },
  {
   "cell_type": "code",
   "execution_count": 1,
   "id": "501bde7e-03cd-4e92-8c59-296d749b2663",
   "metadata": {},
   "outputs": [
    {
     "name": "stdin",
     "output_type": "stream",
     "text": [
      "Enter first number 5\n",
      "Enter second number 6\n"
     ]
    },
    {
     "name": "stdout",
     "output_type": "stream",
     "text": [
      "11\n"
     ]
    }
   ],
   "source": [
    "a=int(input(\"Enter first number\" ))\n",
    "b=int(input(\"Enter second number\"))\n",
    "print(a+b)"
   ]
  },
  {
   "cell_type": "code",
   "execution_count": null,
   "id": "c515d4fc-92b4-40b9-b63a-e7812edc6bbb",
   "metadata": {},
   "outputs": [],
   "source": [
    "#Exercise 2: Print the sum of the current number and the previous number"
   ]
  },
  {
   "cell_type": "code",
   "execution_count": 6,
   "id": "9274d4ea-6fb3-4ac9-aa56-a64129b6d968",
   "metadata": {},
   "outputs": [
    {
     "name": "stdout",
     "output_type": "stream",
     "text": [
      "sum of current number1 and previous number 0\n",
      "1\n",
      "sum of current number2 and previous number 1\n",
      "3\n",
      "sum of current number3 and previous number 2\n",
      "5\n",
      "sum of current number4 and previous number 3\n",
      "7\n",
      "sum of current number5 and previous number 4\n",
      "9\n",
      "sum of current number6 and previous number 5\n",
      "11\n",
      "sum of current number7 and previous number 6\n",
      "13\n",
      "sum of current number8 and previous number 7\n",
      "15\n",
      "sum of current number9 and previous number 8\n",
      "17\n",
      "sum of current number10 and previous number 9\n",
      "19\n",
      "sum of current number11 and previous number 10\n",
      "21\n",
      "sum of current number12 and previous number 11\n",
      "23\n",
      "sum of current number13 and previous number 12\n",
      "25\n",
      "sum of current number14 and previous number 13\n",
      "27\n",
      "sum of current number15 and previous number 14\n",
      "29\n",
      "sum of current number16 and previous number 15\n",
      "31\n",
      "sum of current number17 and previous number 16\n",
      "33\n",
      "sum of current number18 and previous number 17\n",
      "35\n",
      "sum of current number19 and previous number 18\n",
      "37\n"
     ]
    }
   ],
   "source": [
    "c=0;\n",
    "for i in range (1,20):\n",
    "    print(f\"sum of current number #{i} and previous number {i-1}\")\n",
    "    c=i+i-1\n",
    "    print(c)\n"
   ]
  },
  {
   "cell_type": "code",
   "execution_count": null,
   "id": "d7c9f6b0-5dd5-4b7e-8079-d3bb330cf2e1",
   "metadata": {},
   "outputs": [],
   "source": [
    "#Exercise 3: Print characters from a string that are present at an even index number"
   ]
  },
  {
   "cell_type": "code",
   "execution_count": 11,
   "id": "d79cb395-72eb-4cbe-b573-38943fa5972f",
   "metadata": {},
   "outputs": [
    {
     "name": "stdin",
     "output_type": "stream",
     "text": [
      "Enter a string manishgoswamikarhi\n"
     ]
    },
    {
     "name": "stdout",
     "output_type": "stream",
     "text": [
      "m\n",
      "n\n",
      "s\n",
      "g\n",
      "s\n",
      "a\n",
      "i\n",
      "a\n",
      "h\n",
      "mnsgsaiah\n"
     ]
    }
   ],
   "source": [
    "string = input(\"Enter a string\")\n",
    "k=0\n",
    "\n",
    "for i in string:\n",
    "    if k%2==0:\n",
    "        print(i)\n",
    "    k+=1;\n",
    "    \n",
    "#slicing\n",
    "print(string[::2])\n",
    "        "
   ]
  },
  {
   "cell_type": "code",
   "execution_count": null,
   "id": "319637a3-9a87-4c30-8d49-f36273141ad2",
   "metadata": {},
   "outputs": [],
   "source": [
    "#Exercise 4: Remove first n characters from a string"
   ]
  },
  {
   "cell_type": "code",
   "execution_count": 13,
   "id": "5296603e-8110-48ca-beb9-2c346e9134b3",
   "metadata": {},
   "outputs": [
    {
     "name": "stdin",
     "output_type": "stream",
     "text": [
      "Enter String Manishgoswamikarhi\n",
      "Give the first n character 4\n"
     ]
    },
    {
     "name": "stdout",
     "output_type": "stream",
     "text": [
      "shgoswamikarhi\n"
     ]
    }
   ],
   "source": [
    "string =input(\"Enter String\")\n",
    "n=int(input(\"Give the first n character\"))\n",
    "print(string[n:])"
   ]
  },
  {
   "cell_type": "code",
   "execution_count": null,
   "id": "fd3350ce-fd2e-4400-a74e-8bb2dbdf81e3",
   "metadata": {},
   "outputs": [],
   "source": [
    "#Exercise 5: Check if the first and last number of a list is the same"
   ]
  },
  {
   "cell_type": "code",
   "execution_count": 20,
   "id": "a7a684c1-a9e5-48a5-9978-201f793c04dd",
   "metadata": {},
   "outputs": [],
   "source": [
    "def lstEquals(list:lst)-> bool:\n",
    "    '''This funsction will check the first and last element of a list'''\n",
    "    if lst[0]==lst[len(lst)-1]:\n",
    "        return True\n",
    "    else:\n",
    "        return False\n"
   ]
  },
  {
   "cell_type": "code",
   "execution_count": 21,
   "id": "35c1eb68-7c28-45fe-baf3-e131bf7dd4c7",
   "metadata": {},
   "outputs": [
    {
     "name": "stdin",
     "output_type": "stream",
     "text": [
      " 1 2 3 4 5 6 7 8 9\n"
     ]
    },
    {
     "name": "stdout",
     "output_type": "stream",
     "text": [
      "False\n"
     ]
    }
   ],
   "source": [
    "lst=list(map(int,input().split(\" \")))\n",
    "print(lstEquals(lst))"
   ]
  },
  {
   "cell_type": "code",
   "execution_count": 22,
   "id": "1309c99a-324e-4baf-acbb-39d114ec2549",
   "metadata": {},
   "outputs": [
    {
     "name": "stdin",
     "output_type": "stream",
     "text": [
      " 1 2 3 4 5 6 1\n"
     ]
    },
    {
     "name": "stdout",
     "output_type": "stream",
     "text": [
      "True\n"
     ]
    }
   ],
   "source": [
    "lst=list(map(int,input().split(\" \")))\n",
    "print(lstEquals(lst))"
   ]
  },
  {
   "cell_type": "code",
   "execution_count": null,
   "id": "71ebfe17-e1d3-469a-807f-dab6472f132c",
   "metadata": {},
   "outputs": [],
   "source": [
    "#Exercise 6: Display numbers divisible by 5 from a list"
   ]
  },
  {
   "cell_type": "code",
   "execution_count": 24,
   "id": "1b69d96f-ee77-4e55-bec4-1a2a34bf155d",
   "metadata": {},
   "outputs": [
    {
     "name": "stdin",
     "output_type": "stream",
     "text": [
      "  1 2 3 4 5 10 15 20\n"
     ]
    },
    {
     "name": "stdout",
     "output_type": "stream",
     "text": [
      "5\n",
      "10\n",
      "15\n",
      "20\n"
     ]
    }
   ],
   "source": [
    "lst=list(map(int,input().split()))\n",
    "for i in lst:\n",
    "    if(i%5==0):\n",
    "        print(i)"
   ]
  },
  {
   "cell_type": "code",
   "execution_count": null,
   "id": "97f5bf62-bce4-451d-a9ea-2ca9b2d8d545",
   "metadata": {},
   "outputs": [],
   "source": [
    "#Exercise 7: Return the count of a given substring from a string"
   ]
  },
  {
   "cell_type": "code",
   "execution_count": 26,
   "id": "012ef47b-fa02-4feb-a76d-51e9b6f8b0ea",
   "metadata": {},
   "outputs": [
    {
     "name": "stdin",
     "output_type": "stream",
     "text": [
      "Enter your string manishgoswamimanu\n",
      "Enter sub string man\n"
     ]
    },
    {
     "name": "stdout",
     "output_type": "stream",
     "text": [
      "2\n"
     ]
    }
   ],
   "source": [
    "string=input(\"Enter your string\")\n",
    "sub=input(\"Enter sub string\")\n",
    "print(string.count(sub))"
   ]
  },
  {
   "cell_type": "code",
   "execution_count": null,
   "id": "7e2f8f38-f543-4102-89d7-c7b832da67f1",
   "metadata": {},
   "outputs": [],
   "source": [
    "'''Exercise 8: Print the following pattern\n",
    "1\n",
    "2 2\n",
    "3 3 3\n",
    "4 4 4 4\n",
    "5 5 5 5 5'''"
   ]
  },
  {
   "cell_type": "code",
   "execution_count": 28,
   "id": "680c71a4-6e98-45c5-8b0d-13ed4d1513b8",
   "metadata": {},
   "outputs": [
    {
     "name": "stdin",
     "output_type": "stream",
     "text": [
      " 5\n"
     ]
    },
    {
     "name": "stdout",
     "output_type": "stream",
     "text": [
      "1 \n",
      "2 2 \n",
      "3 3 3 \n",
      "4 4 4 4 \n",
      "5 5 5 5 5 \n"
     ]
    }
   ],
   "source": [
    "num=int(input())\n",
    "for i in range(1,num+1):\n",
    "    s=str(i)+\" \"\n",
    "    print(s*i)"
   ]
  },
  {
   "cell_type": "code",
   "execution_count": null,
   "id": "04bca0db-099c-42b8-93d5-ab623c5a6a05",
   "metadata": {},
   "outputs": [],
   "source": [
    "#Exercise 9: Check Palindrome Number"
   ]
  },
  {
   "cell_type": "code",
   "execution_count": 29,
   "id": "e158e049-d34f-46a5-8f41-6c65e85871d1",
   "metadata": {},
   "outputs": [
    {
     "name": "stdin",
     "output_type": "stream",
     "text": [
      " 121\n"
     ]
    },
    {
     "name": "stdout",
     "output_type": "stream",
     "text": [
      "True\n"
     ]
    }
   ],
   "source": [
    "num=input()\n",
    "num1=num[::-1]\n",
    "if num==num1:\n",
    "    print(\"True\")\n",
    "else:\n",
    "    print(\"False\")"
   ]
  },
  {
   "cell_type": "code",
   "execution_count": null,
   "id": "009e735b-287a-40c4-9829-12c89e5fc22d",
   "metadata": {},
   "outputs": [],
   "source": [
    "\"\"\"Given a two list of numbers, write a program to create a new list such that the new list should contain\n",
    "odd numbers from the first list and even numbers from the second list.\"\"\""
   ]
  },
  {
   "cell_type": "code",
   "execution_count": 36,
   "id": "3d7ad505-cdb6-4585-b07d-a975292f8831",
   "metadata": {},
   "outputs": [
    {
     "name": "stdout",
     "output_type": "stream",
     "text": [
      "[2, 4, 6, 8, 0, 1, 3, 5, 7, 9]\n",
      "[2, 4, 6, 8, 0, 1, 3, 5, 7, 9]\n"
     ]
    }
   ],
   "source": [
    "lst1=[1,2,3,4,5,6,7,8,9,0]\n",
    "lst2=[1,2,3,4,5,6,7,8,9,0]\n",
    "lst=[]\n",
    "for i in lst1:\n",
    "    if i%2==0:\n",
    "        lst.append(i)\n",
    "for i in lst2:\n",
    "    if i%2  !=0:\n",
    "        lst.append(i)\n",
    "print(lst)\n",
    "#filter approch\n",
    "lst3=list(filter( lambda x:x%2==0 ,lst1))+list(filter( lambda x:x%2!=0 ,lst2))\n",
    "print(lst3)\n",
    "    "
   ]
  },
  {
   "cell_type": "code",
   "execution_count": null,
   "id": "ac625918-8da1-40aa-a190-133f055a7ad6",
   "metadata": {},
   "outputs": [],
   "source": [
    "#Exercise 11: Write a Program to extract each digit from an integer in the reverse order."
   ]
  },
  {
   "cell_type": "code",
   "execution_count": 37,
   "id": "8181fe1c-0241-47af-8a22-ccb11a629821",
   "metadata": {},
   "outputs": [
    {
     "name": "stdin",
     "output_type": "stream",
     "text": [
      " 12345\n"
     ]
    },
    {
     "name": "stdout",
     "output_type": "stream",
     "text": [
      "12345\n",
      "5 4 3 2 1\n"
     ]
    }
   ],
   "source": [
    "n=int(input())\n",
    "print(n)\n",
    "print(\" \".join(str(n)[::-1]))\n"
   ]
  },
  {
   "cell_type": "code",
   "execution_count": null,
   "id": "22237280-1256-44b1-a19e-b7ba0384803b",
   "metadata": {},
   "outputs": [],
   "source": [
    "\"\"\"Exercise 12: Calculate income tax for the given income by adhering to the below rules\n",
    "For example, suppose the taxable income is 45000 the income tax payable is\n",
    "\n",
    "10000*0% + 10000*10%  + 25000*20% = $6000\"\"\""
   ]
  },
  {
   "cell_type": "code",
   "execution_count": 42,
   "id": "f04468a1-c128-4f9c-abeb-f05ef5b4de9e",
   "metadata": {},
   "outputs": [
    {
     "name": "stdin",
     "output_type": "stream",
     "text": [
      " 45000\n"
     ]
    },
    {
     "name": "stdout",
     "output_type": "stream",
     "text": [
      "6000.0\n"
     ]
    }
   ],
   "source": [
    "income=int(input())\n",
    "tax=0\n",
    "if income<10000:\n",
    "    tax=0\n",
    "elif 10000<income<20000:\n",
    "    tax=10000*0.1\n",
    "else:\n",
    "    tax=(income-20000)*.2+10000*0.1\n",
    "print(tax)"
   ]
  },
  {
   "cell_type": "code",
   "execution_count": null,
   "id": "bafa91e0-9196-4018-b869-f8b56d48158c",
   "metadata": {},
   "outputs": [],
   "source": [
    "#Exercise 13: Print multiplication table form 1 to 10\n"
   ]
  },
  {
   "cell_type": "code",
   "execution_count": 44,
   "id": "805bb965-0510-41de-9831-7355c7a73ddd",
   "metadata": {},
   "outputs": [
    {
     "name": "stdout",
     "output_type": "stream",
     "text": [
      "[1, 2, 3, 4, 5, 6, 7, 8, 9, 10]\n",
      "[2, 4, 6, 8, 10, 12, 14, 16, 18, 20]\n",
      "[3, 6, 9, 12, 15, 18, 21, 24, 27, 30]\n",
      "[4, 8, 12, 16, 20, 24, 28, 32, 36, 40]\n",
      "[5, 10, 15, 20, 25, 30, 35, 40, 45, 50]\n",
      "[6, 12, 18, 24, 30, 36, 42, 48, 54, 60]\n",
      "[7, 14, 21, 28, 35, 42, 49, 56, 63, 70]\n",
      "[8, 16, 24, 32, 40, 48, 56, 64, 72, 80]\n",
      "[9, 18, 27, 36, 45, 54, 63, 72, 81, 90]\n",
      "[10, 20, 30, 40, 50, 60, 70, 80, 90, 100]\n"
     ]
    }
   ],
   "source": [
    "for i in range(1,11):\n",
    "    lst = [i*lst for lst in range(1,11)]\n",
    "    print(lst)"
   ]
  },
  {
   "cell_type": "code",
   "execution_count": 45,
   "id": "196befb7-3020-4d82-ae00-0e454693ec57",
   "metadata": {},
   "outputs": [
    {
     "ename": "SyntaxError",
     "evalue": "incomplete input (2630766978.py, line 2)",
     "output_type": "error",
     "traceback": [
      "\u001b[0;36m  Cell \u001b[0;32mIn [45], line 2\u001b[0;36m\u001b[0m\n\u001b[0;31m    \"\"\"\u001b[0m\n\u001b[0m    ^\u001b[0m\n\u001b[0;31mSyntaxError\u001b[0m\u001b[0;31m:\u001b[0m incomplete input\n"
     ]
    }
   ],
   "source": [
    "#Exercise 14: Print downward Half-Pyramid Pattern with Star (asterisk)\n",
    "\"\"\"\n",
    "* * * * *\n",
    "* * * *\n",
    "* * *\n",
    "* *\n",
    "*\"\"\""
   ]
  },
  {
   "cell_type": "code",
   "execution_count": 50,
   "id": "c96c06e3-4271-492c-b327-5a8c99566e63",
   "metadata": {},
   "outputs": [
    {
     "name": "stdin",
     "output_type": "stream",
     "text": [
      " 5\n"
     ]
    },
    {
     "name": "stdout",
     "output_type": "stream",
     "text": [
      "* * * * * \n",
      "* * * * \n",
      "* * * \n",
      "* * \n",
      "* \n"
     ]
    }
   ],
   "source": [
    "n=int(input())\n",
    "for i in range(n,0,-1):\n",
    "    s=\"* \"\n",
    "    print(s*i)\n",
    "    "
   ]
  },
  {
   "cell_type": "code",
   "execution_count": null,
   "id": "c64e4550-7791-47d2-bc7b-5798b53a4479",
   "metadata": {},
   "outputs": [],
   "source": [
    "#Exercise 15: Write a function called exponent(base, exp) that returns an int value of base raises to the power of exp."
   ]
  },
  {
   "cell_type": "code",
   "execution_count": 52,
   "id": "17314aa7-7f94-4d04-9ef9-e5758e238a0c",
   "metadata": {},
   "outputs": [
    {
     "name": "stdin",
     "output_type": "stream",
     "text": [
      "Enter base 10\n",
      "Enter exp 2\n"
     ]
    },
    {
     "name": "stdout",
     "output_type": "stream",
     "text": [
      "100\n"
     ]
    }
   ],
   "source": [
    "def exponent(base, exp)->int:\n",
    "    return base**exp\n",
    "\n",
    "print(exponent(int(input(\"Enter base\")),int(input(\"Enter exp\"))))"
   ]
  },
  {
   "cell_type": "code",
   "execution_count": null,
   "id": "673fd054-8477-4672-a1bd-1c41a3b1662f",
   "metadata": {},
   "outputs": [],
   "source": [
    "#ref https://pynative.com/python-basic-exercise-for-beginners/"
   ]
  }
 ],
 "metadata": {
  "kernelspec": {
   "display_name": "Python 3 (ipykernel)",
   "language": "python",
   "name": "python3"
  },
  "language_info": {
   "codemirror_mode": {
    "name": "ipython",
    "version": 3
   },
   "file_extension": ".py",
   "mimetype": "text/x-python",
   "name": "python",
   "nbconvert_exporter": "python",
   "pygments_lexer": "ipython3",
   "version": "3.10.6"
  },
  "toc-autonumbering": true
 },
 "nbformat": 4,
 "nbformat_minor": 5
}
