{
 "cells": [
  {
   "cell_type": "code",
   "execution_count": 4,
   "id": "e7add270-b4ff-4c6d-b1a9-6be324a0c9e7",
   "metadata": {},
   "outputs": [
    {
     "name": "stdin",
     "output_type": "stream",
     "text": [
      "Enter Number 8\n",
      "Enter Number 5\n"
     ]
    },
    {
     "name": "stdout",
     "output_type": "stream",
     "text": [
      "Hcf of number 8 5 is 40\n"
     ]
    }
   ],
   "source": [
    "#1. Write a Python Program to Find LCM?\n",
    "x=int(input(\"Enter Number\"))\n",
    "y=int(input(\"Enter Number\"))\n",
    "# divide by x and y if any number is divisible then it is called LCM\n",
    "c=x if x>y else y\n",
    "while(True):\n",
    "    if(c%x==0 and c%y==0):\n",
    "        break;\n",
    "    c+=1\n",
    "\n",
    "print(f'LCM of number {x} {y} is {c}')\n",
    "\n",
    "\n"
   ]
  },
  {
   "cell_type": "code",
   "execution_count": 5,
   "id": "c24f172d-b59d-4a07-8827-9c006cdcfced",
   "metadata": {},
   "outputs": [
    {
     "name": "stdin",
     "output_type": "stream",
     "text": [
      "Enter Number 4\n",
      "Enter Number 12\n"
     ]
    },
    {
     "name": "stdout",
     "output_type": "stream",
     "text": [
      "HCF of number 4 12 is 4.0\n"
     ]
    }
   ],
   "source": [
    "#2. Write a Python Program to Find HCF?\n",
    "x=int(input(\"Enter Number\"))\n",
    "y=int(input(\"Enter Number\"))\n",
    "# divide by x and y if any number is divisible then it is called LCM\n",
    "c=x if x>y else y\n",
    "while(True):\n",
    "    if(c%x==0 and c%y==0):\n",
    "        break;\n",
    "    c+=1\n",
    "\n",
    "h=x*y/c\n",
    "print(f'HCF of number {x} {y} is {h}')"
   ]
  },
  {
   "cell_type": "code",
   "execution_count": 7,
   "id": "5fbd8437-14d0-4af3-9070-66ab2c9fd128",
   "metadata": {},
   "outputs": [
    {
     "name": "stdin",
     "output_type": "stream",
     "text": [
      "Enter decimal number 8\n"
     ]
    },
    {
     "name": "stdout",
     "output_type": "stream",
     "text": [
      "octl value is 0o10\n",
      "hexadecimal value is 0x8\n",
      "binary value is 0b1000\n"
     ]
    }
   ],
   "source": [
    "#3. Write a Python Program to Convert Decimal to Binary, Octal and Hexadecimal?\n",
    "x=int(input(\"Enter decimal number\"))\n",
    "print(f'octl value is {oct(x)}')\n",
    "print(f'hexadecimal value is {hex(x)}')\n",
    "print(f'binary value is {bin(x)}')"
   ]
  },
  {
   "cell_type": "code",
   "execution_count": 8,
   "id": "fcd19bb9-5c2f-47f5-ba29-2423755c8150",
   "metadata": {},
   "outputs": [
    {
     "name": "stdin",
     "output_type": "stream",
     "text": [
      "Enter character A\n"
     ]
    },
    {
     "data": {
      "text/plain": [
       "65"
      ]
     },
     "execution_count": 8,
     "metadata": {},
     "output_type": "execute_result"
    }
   ],
   "source": [
    "#4. Write a Python Program To Find ASCII value of a character?\n",
    "ord(input(\"Enter character\"))"
   ]
  },
  {
   "cell_type": "code",
   "execution_count": 9,
   "id": "e4a28a3d-2ad7-4782-b5ab-298b579ca9f2",
   "metadata": {},
   "outputs": [
    {
     "name": "stdin",
     "output_type": "stream",
     "text": [
      "Enter number 10\n",
      "Enter number 2\n"
     ]
    },
    {
     "name": "stdout",
     "output_type": "stream",
     "text": [
      "sum of number is 12\n",
      "sub of number is 8\n",
      "mult of number is 20\n",
      "div of number is 5.0\n"
     ]
    }
   ],
   "source": [
    "#5. Write a Python Program to Make a Simple Calculator with 4 basic mathematical operations?\n",
    "x=int(input(\"Enter number\"))\n",
    "y=int(input(\"Enter number\"))\n",
    "print(f'sum of number is {x+y}')\n",
    "print(f'sub of number is {x-y}')\n",
    "print(f'mult of number is {x*y}')\n",
    "print(f'div of number is {x/y}')"
   ]
  },
  {
   "cell_type": "code",
   "execution_count": null,
   "id": "de949d87-3fa5-42d2-b7ae-1220cdc36907",
   "metadata": {},
   "outputs": [],
   "source": []
  }
 ],
 "metadata": {
  "kernelspec": {
   "display_name": "Python 3 (ipykernel)",
   "language": "python",
   "name": "python3"
  },
  "language_info": {
   "codemirror_mode": {
    "name": "ipython",
    "version": 3
   },
   "file_extension": ".py",
   "mimetype": "text/x-python",
   "name": "python",
   "nbconvert_exporter": "python",
   "pygments_lexer": "ipython3",
   "version": "3.10.6"
  }
 },
 "nbformat": 4,
 "nbformat_minor": 5
}
